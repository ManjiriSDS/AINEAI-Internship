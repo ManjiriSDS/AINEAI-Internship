{
 "cells": [
  {
   "cell_type": "markdown",
   "id": "58d8fffb",
   "metadata": {},
   "source": [
    "### #VIPatAINEAI"
   ]
  },
  {
   "cell_type": "markdown",
   "id": "500f3b6a",
   "metadata": {},
   "source": [
    "# Virtual Internship Program by AINE.AI"
   ]
  },
  {
   "cell_type": "markdown",
   "id": "72aec479",
   "metadata": {},
   "source": [
    "<img src=\"images.jpg\" width=\"100\" height=\"100\" align=\"left\"/> \n",
    "<img src=\"data science.png\" width=\"150\" height=\"150\" align=\"left\"/> "
   ]
  },
  {
   "cell_type": "markdown",
   "id": "7d96cb95",
   "metadata": {},
   "source": [
    "## Essential Python Programming"
   ]
  },
  {
   "cell_type": "markdown",
   "id": "b0b6e8d9",
   "metadata": {},
   "source": [
    "## Project: Developing 'Rock,Paper and Scissors' game using Python Programming"
   ]
  },
  {
   "cell_type": "markdown",
   "id": "1f07f84e",
   "metadata": {},
   "source": [
    "### Submitted By : Manjiri Harishchandra Sawant"
   ]
  },
  {
   "cell_type": "markdown",
   "id": "e80d9f6c",
   "metadata": {},
   "source": [
    "## About the Project"
   ]
  },
  {
   "cell_type": "markdown",
   "id": "6ad27c72",
   "metadata": {},
   "source": [
    "* The project leverages the basic concepts of Python programming such as variables, data types, loop and conditional statements **to develop the game of Rock, Papers and Scissors.**"
   ]
  },
  {
   "cell_type": "markdown",
   "id": "b46f289c",
   "metadata": {},
   "source": [
    " **Tool Used** : Python Jupyter Notebook"
   ]
  },
  {
   "cell_type": "markdown",
   "id": "b91e4fba",
   "metadata": {},
   "source": [
    " **Aim** : Write a Python program to develop a **Rock, Papers and Scissors game** to be played against a computer."
   ]
  },
  {
   "cell_type": "markdown",
   "id": "232cda64",
   "metadata": {},
   "source": [
    "#### Objectives:"
   ]
  },
  {
   "cell_type": "markdown",
   "id": "0b19fcc1",
   "metadata": {},
   "source": [
    "1. Getting familiar with the environment of the Jupyter Notebook on Anaconda 3.\n",
    "2. Using different types of cells – Code, Markdown and Heading,adding comments in the code cells.\n",
    "3. Understanding basic data types and lists in Python. \n",
    "4. Working with lists and accessing its elements.\n",
    "5. Taking user inputs and printing them.\n",
    "6. Working on the random library.\n",
    "7. Creating loops.\n",
    "8. Using comparison operator to check the inputs.\n",
    "9. Conditional statements.\n",
    "10. Nested conditional statements in Python.\n",
    "11.\tBreak statement.\n",
    "12.\tConcatenated print statements."
   ]
  },
  {
   "cell_type": "markdown",
   "id": "b29dd1bf",
   "metadata": {},
   "source": [
    "### What is Rock Paper Scissors?"
   ]
  },
  {
   "cell_type": "markdown",
   "id": "eeb4288a",
   "metadata": {},
   "source": [
    "* Rock paper scissors is a **hand game** usually played between **two people**, in which each player simultaneously forms one of three shapes with an outstretched hand.\n",
    "* These shapes are \"rock\" (a closed fist), \"paper\" (a flat hand), and \"scissors\" (a fist with the index finger and middle finger extended, forming a V).\n",
    "* **A simultaneous, zero-sum game**, it has only two possible outcomes: a draw, or a win for one player and a loss for the other."
   ]
  },
  {
   "cell_type": "markdown",
   "id": "f77c2b41",
   "metadata": {},
   "source": [
    "### What are the rules to the game 'Rock, Paper and Scissors'?"
   ]
  },
  {
   "cell_type": "markdown",
   "id": "0850420c",
   "metadata": {},
   "source": [
    "* **Rock** crushes scissors.\n",
    "* **Paper** covers rock.\n",
    "* **Scissors** cut paper.\n",
    "\n",
    "<img src=\"800px-Rock-paper-scissors.svg.png\" width=\"300\" height=\"300\" align=\"center\"/> \n"
   ]
  },
  {
   "cell_type": "markdown",
   "id": "4d5f9676",
   "metadata": {},
   "source": [
    "So, here I will be using above winning rules to develop simple 'rock,paper,scissors' game in python."
   ]
  },
  {
   "cell_type": "markdown",
   "id": "844c1191",
   "metadata": {},
   "source": [
    "* In this game, user gets the first chance to pick the possible actions.\n",
    "* After that computer will select from the choices randomly, then winner is decided as per the rules."
   ]
  },
  {
   "cell_type": "markdown",
   "id": "a6e9b668",
   "metadata": {},
   "source": [
    "**We have added two more elements in the game - Lizard and Spock. The game structure looks like:**\n",
    "\n",
    "<img src=\"img.png\" width=\"300\" height=\"300\" align=\"center\"/> \n",
    "\n",
    "<mark>__New derived rules:__\n",
    "* **Rock** crushes lizard.\n",
    "* **Paper** disproves spock.\n",
    "* **Scissors** decapitates lizard.\n",
    "* **Lizard** eats paper.\n",
    "* **Spock** smashes scissors.\n",
    "* **Lizard** poisons spock.\n",
    "* **Spock** vaporizes rock."
   ]
  },
  {
   "cell_type": "markdown",
   "id": "c4f24ccf",
   "metadata": {},
   "source": [
    "#### Import Necessary Libraries"
   ]
  },
  {
   "cell_type": "markdown",
   "id": "c2f15ecc",
   "metadata": {},
   "source": [
    "##### The following code written in Python 3.x. Libraries provide pre-written functionally to perform necessary tasks."
   ]
  },
  {
   "cell_type": "code",
   "execution_count": 1,
   "id": "34555fb6",
   "metadata": {},
   "outputs": [],
   "source": [
    "import random"
   ]
  },
  {
   "cell_type": "markdown",
   "id": "da1447b2",
   "metadata": {},
   "source": [
    "* The **random module** is a built-in module to generate the pseudo-random variables. \n",
    "* It can be used perform some action randomly such as to get a random number, selecting a random elements from a list, shuffle elements randomly, etc."
   ]
  },
  {
   "cell_type": "markdown",
   "id": "256586dc",
   "metadata": {},
   "source": [
    "###  Using While loop"
   ]
  },
  {
   "cell_type": "code",
   "execution_count": 2,
   "id": "442f2acd",
   "metadata": {},
   "outputs": [
    {
     "name": "stdout",
     "output_type": "stream",
     "text": [
      "Select Moves; ['rock', 'paper', 'scissors', 'lizard', 'spock']   User Turn  🧑 👩 :  paper\n",
      "Enter a Move; paper 🤖  :  paper\n",
      "Boo!! Tiee !! Nobody Wins 😵 \n",
      "\n",
      "Want to quit? (y/n): n\n",
      "Select Moves; ['rock', 'paper', 'scissors', 'lizard', 'spock']   User Turn  🧑 👩 :  scissors\n",
      "Enter a Move; lizard 🤖  :  lizard\n",
      "Hurray !!!  🎉 🎉 🎉  User Wins \" 🧑 👩 👍\" \n",
      " \n",
      "Want to quit? (y/n): n\n",
      "Select Moves; ['rock', 'paper', 'scissors', 'lizard', 'spock']   User Turn  🧑 👩 :  spock\n",
      "Enter a Move; paper 🤖  :  paper\n",
      "Hurray !!!  🎉 🎉 🎉  Computer Wins \" 🤖 👍\" \n",
      "\n",
      "Want to quit? (y/n): y\n",
      "Let's play again 😃 \n"
     ]
    }
   ],
   "source": [
    "# Rock defeats scissor, lizard\n",
    "# Paper defeats rock, spock\n",
    "# Scissor defeats paper, lizard\n",
    "# Lizard defeats spock, paper\n",
    "# Spock defeats rock , scissors\n",
    "\n",
    "moves = ['rock','paper','scissors','lizard', 'spock'] # possible actions in Rock,Paper & Scissor Game\n",
    "\n",
    "# Victory Status\n",
    "status_1 = 'Hurray !!!  \\U0001F389 \\U0001F389 \\U0001F389  User Wins \" \\U0001F9D1 \\U0001F469 \\U0001F44D\" \\n ' \n",
    "status_2 = 'Hurray !!!  \\U0001F389 \\U0001F389 \\U0001F389  Computer Wins \" \\U0001F916 \\U0001F44D\" \\n'\n",
    "\n",
    "\n",
    "# excecute while loop as long as condition is true\n",
    "game = True\n",
    "\n",
    "# Use while loop to play several games in row\n",
    "while game:\n",
    "    u = input('Select Moves; {}   User Turn  \\U0001F9D1 \\U0001F469 :  '. format(moves))# taking input from the user\n",
    "    if u != u.lower():\n",
    "        break\n",
    "  \n",
    "    m = input('Enter a Move; {} \\U0001F916  :  '.format(moves[random.randint(0,4)])) # making computer to choose randomly\n",
    "    \n",
    "    if u == m:\n",
    "        print('Boo!! Tiee !! Nobody Wins \\U0001F635 \\n') # creating nested conditional statements to determine winner\n",
    "      \n",
    "        \n",
    "    elif u == 'rock':\n",
    "        if m == 'scissors':     # = is an assignment operator while == is for comparison\n",
    "            print(status_1)   \n",
    "        \n",
    "        elif m == 'lizard':\n",
    "            print(status_1)\n",
    "            \n",
    "        else:\n",
    "            print(status_2)\n",
    "    \n",
    "    elif u == 'paper':\n",
    "        if m == 'rock':\n",
    "            print(status_1)\n",
    "        \n",
    "        elif m == 'spock':\n",
    "            print(status_1)\n",
    "            \n",
    "        else:\n",
    "            print(status_2)\n",
    "    \n",
    "    \n",
    "    elif u == 'scissors':\n",
    "        if m == 'paper':                \n",
    "            print(status_1)\n",
    "        \n",
    "        elif m == 'lizard':\n",
    "            print(status_1)\n",
    "        \n",
    "        else:\n",
    "            print(status_2)\n",
    "        \n",
    "    elif u == 'lizard':\n",
    "        if m == 'spock':\n",
    "            print(status_1)\n",
    "        \n",
    "        elif m == 'paper':\n",
    "            print(status_1)\n",
    "        \n",
    "        else:\n",
    "            print(status_2)\n",
    "            \n",
    "    elif u == 'spock':\n",
    "        if m == 'rock':\n",
    "            print(status_1)\n",
    "        \n",
    "        elif m == 'scissors':\n",
    "            print(status_1)\n",
    "        else:\n",
    "            print(status_2)\n",
    "            \n",
    "    else:\n",
    "        print(status_2)\n",
    "        \n",
    "    quit = input(\"Want to quit? (y/n): \") #asking player to quit or continue the game\n",
    "    if quit.lower() == \"y\":\n",
    "        break\n",
    "print(\"Let's play again \\U0001F603 \")\n"
   ]
  },
  {
   "cell_type": "markdown",
   "id": "769decd6",
   "metadata": {},
   "source": [
    "1. In the beginning, we have created list by placing the elements inside the square [] brackets.\n",
    "2. Why we are taking user input is to ask user what they would like to select as an action.\n",
    "3. random.randint() is allowing computer to choose random action from the given list.\n",
    "4. The **randint()** method returns an integer number selected element from the specified range.\n",
    "5. Furthermore, when both player made their choices using a nested conditional statement i.e. **if..elif..else** ,we have compared their selection and determined a winner.\n",
    "6. In conclusion, to play the game several times we have placed nested conditional statements inside **while loop**.\n",
    "7. With the while loop, we can execute a set of statements as long as condition is **true**.\n",
    "8. It is important to check if user wants to continue the game or quit, without that user would be forced to play indefinitely so with the **break statement** we can stop the loop even if the while condition is true.\n",
    "9. **lower()** is a built-in Python method primarily used for string handling.\n",
    "10. It is used to check whether program does not show input invalid only considering lowercase."
   ]
  },
  {
   "cell_type": "markdown",
   "id": "b65be13d",
   "metadata": {},
   "source": [
    "### Using For loop"
   ]
  },
  {
   "cell_type": "code",
   "execution_count": 3,
   "id": "64c189a3",
   "metadata": {
    "scrolled": true
   },
   "outputs": [
    {
     "name": "stdout",
     "output_type": "stream",
     "text": [
      "Enter a No. of Rounds \"🧑 👩\" ⚔ \"🤖\" :   3\n",
      "Select Moves; ['rock', 'paper', 'scissors'] 🧑 👩 :  rock\n",
      "Enter a Move; ['rock'] 🤖  :  rock\n",
      "Boo!! Tiee !! Nobody Wins 😵 \n",
      "\n",
      "----------------------------------------------------------------------------------------------------\n",
      "Select Moves; ['rock', 'paper', 'scissors'] 🧑 👩 :  scissors\n",
      "Enter a Move; ['paper'] 🤖  :  paper\n",
      "SCISSORS CUT PAPER \n",
      "  Hurray !!!  🎉 🎉 🎉  User Wins \" 🧑 👩 👍\" \n",
      "\n",
      "----------------------------------------------------------------------------------------------------\n",
      "Select Moves; ['rock', 'paper', 'scissors'] 🧑 👩 :  paper\n",
      "Enter a Move; ['paper'] 🤖  :  paper\n",
      "Boo!! Tiee !! Nobody Wins 😵 \n",
      "\n",
      "----------------------------------------------------------------------------------------------------\n"
     ]
    }
   ],
   "source": [
    "moves = ['rock','paper','scissors'] # possible actions in 'rock,paper,scissors' game\n",
    "\n",
    "\n",
    "# Asking User for No.of rounds to play with Computer\n",
    "n = int(input('Enter a No. of Rounds \"\\U0001F9D1 \\U0001F469\" \\U00002694 \"\\U0001F916\" :   '))\n",
    "\n",
    "\n",
    "# Given Rules will decide the Winner\n",
    "str_1 = 'PAPER COVERS ROCK \\n'\n",
    "str_2 = 'SCISSORS CUT PAPER \\n'\n",
    "str_3 = 'ROCK CRUSHES SCISSORS \\n'\n",
    "\n",
    "# Victory Status\n",
    "status_1 = 'Hurray !!!  \\U0001F389 \\U0001F389 \\U0001F389  User Wins \" \\U0001F9D1 \\U0001F469 \\U0001F44D\" \\n' \n",
    "status_2 = 'Hurray !!!  \\U0001F389 \\U0001F389 \\U0001F389  Computer Wins \" \\U0001F916 \\U0001F44D\" \\n'\n",
    "\n",
    "\n",
    "\n",
    "# Line Separator\n",
    "fight = (\"-\" * 100)\n",
    "\n",
    "# Use for loop \n",
    "for i in range(1,n+1):\n",
    "    user = input('Select Moves; {} \\U0001F9D1 \\U0001F469 :  '.format(moves)) # taking input from the user\n",
    "    if user != user.lower():\n",
    "        break\n",
    "    \n",
    "    machine = input('Enter a Move; {} \\U0001F916  :  '.format(random.choices(moves))) #making computer to select randomly\n",
    "\n",
    "    \n",
    "    \n",
    "    if user == machine:\n",
    "        print('Boo!! Tiee !! Nobody Wins \\U0001F635 \\n')\n",
    "        print(fight)\n",
    "    \n",
    "    elif user == 'paper':\n",
    "        if machine == 'rock':\n",
    "            print ('  '.join([str_1 ,status_1])) # string concatenation\n",
    "            print(fight)\n",
    "      \n",
    "        elif machine == 'scissors':\n",
    "            print('  '.join([str_2,status_2])) \n",
    "            print(fight)\n",
    "        \n",
    "        else:\n",
    "            print()\n",
    "    \n",
    "    elif user == 'rock':\n",
    "        if machine == 'paper':\n",
    "            print ('  '.join([str_1 ,status_2]))\n",
    "            print(fight)\n",
    "        \n",
    "        elif machine == 'scissors':\n",
    "            print('  '.join([str_3,status_1]))\n",
    "            print(fight)\n",
    "    \n",
    "    elif user == 'scissors':\n",
    "        if machine == 'rock':\n",
    "            print ('  '.join([str_3 ,status_2]))\n",
    "            print(fight)\n",
    "        \n",
    "        elif machine == 'paper':\n",
    "            print('  '.join([str_2,status_1]))\n",
    "            print(fight)\n",
    "        \n",
    "        else:\n",
    "            print()\n",
    "    \n",
    "    else:\n",
    "        print('Enter a correct word')\n"
   ]
  },
  {
   "cell_type": "markdown",
   "id": "9e3b277c",
   "metadata": {},
   "source": [
    "1. Using For loop to let the user opt for how many rounds he/she wants to play the game.\n",
    "2. The **for loop** in Python is used to iterate over a sequence (list, tuple, string) or other iterable objects. \n",
    "3. The python **random.choice()** function returns a random element from a sequence. We must specify the list from which we want to retrieve random elements.\n",
    "4. The **join()** method is one of the string concatenation method and returns a string in which the element of sequence have been joined by str separator.\n",
    "5. The **format()** method formats the specified value(s) and insert them inside the string's placeholder."
   ]
  },
  {
   "cell_type": "markdown",
   "id": "d20f1f4c",
   "metadata": {},
   "source": [
    "**There is scope of improvement,because string comparison can cause problem we have to explore many ways to overcome the errors!**"
   ]
  }
 ],
 "metadata": {
  "kernelspec": {
   "display_name": "Python 3",
   "language": "python",
   "name": "python3"
  },
  "language_info": {
   "codemirror_mode": {
    "name": "ipython",
    "version": 3
   },
   "file_extension": ".py",
   "mimetype": "text/x-python",
   "name": "python",
   "nbconvert_exporter": "python",
   "pygments_lexer": "ipython3",
   "version": "3.8.8"
  }
 },
 "nbformat": 4,
 "nbformat_minor": 5
}
