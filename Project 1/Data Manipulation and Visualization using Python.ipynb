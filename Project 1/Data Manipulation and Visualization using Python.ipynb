{
 "cells": [
  {
   "cell_type": "markdown",
   "metadata": {},
   "source": [
    "### #VIPatAINEAI"
   ]
  },
  {
   "cell_type": "markdown",
   "metadata": {},
   "source": [
    "# Virtual Internship Program by AINE.AI"
   ]
  },
  {
   "cell_type": "markdown",
   "metadata": {},
   "source": [
    "<img src=\"images.jpg\" width=\"100\" height=\"100\" align=\"left\"/> \n",
    "<img src=\"data science.png\" width=\"150\" height=\"150\" align=\"left\"/> "
   ]
  },
  {
   "cell_type": "markdown",
   "metadata": {},
   "source": [
    "# Data Manipulation & Visualization"
   ]
  },
  {
   "cell_type": "markdown",
   "metadata": {
    "id": "aO4fBjx2MhOz"
   },
   "source": [
    "## Project : Creating Visuals & Charts using Python"
   ]
  },
  {
   "cell_type": "markdown",
   "metadata": {
    "id": "nV6AOsHmM2Qw"
   },
   "source": [
    "###  Submitted By :  Manjiri Harishchandra Sawant"
   ]
  },
  {
   "cell_type": "markdown",
   "metadata": {},
   "source": [
    "## About the Project   "
   ]
  },
  {
   "cell_type": "markdown",
   "metadata": {},
   "source": [
    "* The project is focused around the use of **Pandas** and **Matplotlib** libraries of python for data manipulation and visualization."
   ]
  },
  {
   "cell_type": "markdown",
   "metadata": {
    "id": "BFCkNDPCyt2S"
   },
   "source": [
    "## Pandas in Python\n",
    "\n",
    "* Pandas is a software library written for the Python programming language for data manipulation and analysis. In particular, it offers data structures and operations for manipulating numerical tables and time series. \n",
    "\n",
    "* When the values are in a table, the table in Python programming is called a dataframe.Basically, dataframes are nothing but variables with values in structured data format.\n",
    "\n",
    "* Pandas library is used to view, manipulate (modify) and analyse dataframes which are 2-D or 3-D in nature."
   ]
  },
  {
   "cell_type": "markdown",
   "metadata": {
    "id": "Oy2DTaIN0lon"
   },
   "source": [
    "## Matplotlib in Python\n",
    "\n",
    "* Matplotlib is a plotting library in Python. It is used for creating static, animated, and interactive visualizations in Python.\n",
    "* In this project, I will use some modules of matplotlib library to create line, bar, column and pie charts with customized formatting to visualize certain data."
   ]
  },
  {
   "cell_type": "markdown",
   "metadata": {
    "id": "bRMhu3Hm0Hv8"
   },
   "source": [
    "### Getting data imported to Python\n",
    "\n",
    "* Pandas library supporting loading data from various online and offline sources to Python. It can fetch data from CSV, EXCEL, TEXT or from any website (URL) or servers as well. \n",
    "\n",
    "* **pd** is an alias name for pandas.\n",
    "\n",
    "#### Datasets for this project are as below. \n",
    "1. brics.csv : https://drive.google.com/file/d/1dYtM0zul-9hiIRs3v2JilgkTPrddx4mz/view?usp=sharing\n",
    "2. cars.csv : https://drive.google.com/file/d/1o4Bs7KoZ9vm7kYEX8xgKwNi25JVnZ_Ra/view?usp=sharing\n",
    "3. marks.csv : https://drive.google.com/file/d/126pQNJzWV6IWQBDik-T_5Xh9y80pQ7K5/view?usp=sharing\n",
    "4. mtcars.csv : https://drive.google.com/file/d/1KbRMJY84JugLwB43PHl2X9r_3oq9dYuv/view?usp=sharing"
   ]
  },
  {
   "cell_type": "markdown",
   "metadata": {
    "id": "2Snmyb3lCZ2s"
   },
   "source": [
    "### Importing pandas library\n",
    "\n",
    "There are different pandas functions used to import different file types. To use any of those functions, the first thing we need to do is to import pandas library. "
   ]
  },
  {
   "cell_type": "code",
   "execution_count": null,
   "metadata": {
    "executionInfo": {
     "elapsed": 945,
     "status": "ok",
     "timestamp": 1629121080657,
     "user": {
      "displayName": "Manjiri Sawant",
      "photoUrl": "https://lh3.googleusercontent.com/a-/AOh14Gg_gCWtWflMGGrHQCn9QlMZSxNVG4ndynt6ZMiyFA=s64",
      "userId": "18419725263817022624"
     },
     "user_tz": -330
    },
    "id": "wupRVzU-AHan"
   },
   "outputs": [],
   "source": [
    "# Import pandas library as an alias name (nickname) pd\n",
    "\n",
    "import pandas as pd"
   ]
  },
  {
   "cell_type": "markdown",
   "metadata": {
    "id": "oZPFgWytDP_f"
   },
   "source": [
    "### If using Google Colab and data is on local disk\n",
    "\n",
    "In this case, we need to first upload the file in file and use read_csv or read_excel functions to read the file as a dataframe."
   ]
  },
  {
   "cell_type": "markdown",
   "metadata": {
    "colab": {
     "base_uri": "https://localhost:8080/",
     "height": 73,
     "resources": {
      "http://localhost:8080/nbextensions/google.colab/files.js": {
       "data": "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",
       "headers": [
        [
         "content-type",
         "application/javascript"
        ]
       ],
       "ok": true,
       "status": 200,
       "status_text": ""
      }
     }
    },
    "executionInfo": {
     "elapsed": 16037,
     "status": "ok",
     "timestamp": 1629121096666,
     "user": {
      "displayName": "Manjiri Sawant",
      "photoUrl": "https://lh3.googleusercontent.com/a-/AOh14Gg_gCWtWflMGGrHQCn9QlMZSxNVG4ndynt6ZMiyFA=s64",
      "userId": "18419725263817022624"
     },
     "user_tz": -330
    },
    "id": "lCuHaZ_ADPma",
    "outputId": "98325cbf-3c87-4b68-d6f1-ccf9e0637394"
   },
   "source": [
    "**Import first Pandas library and run this code first to upload the file.**\n",
    "\n",
    "* from google.colab import files\n",
    "* uploaded = files.upload()\n",
    "\n",
    "**The io module provides Python's main facilities for dealing with various types of I/O.There are three main types of I/O: text I/O, binary I/O and raw I/O.**\n",
    "\n",
    "* import io\n",
    "* data = pd.read_csv(io.BytesIO(uploaded['data.csv'])) \n",
    "\n",
    "Dataset is now stored in a Pandas Dataframe."
   ]
  },
  {
   "cell_type": "markdown",
   "metadata": {
    "id": "8NTEY9cXMvjg"
   },
   "source": [
    "### If the data is uploaded on Jupyter Notebook and is saved in the same location where this Python Notebook is\n",
    "\n",
    "* If the data and the Notebook are in the same location/folder in Jupyter Notebook, we can just 'read' the data without mentioning any directory/source path.  "
   ]
  },
  {
   "cell_type": "markdown",
   "metadata": {},
   "source": [
    "**So Here, I will be using Python Jupyter Notebook.**"
   ]
  },
  {
   "cell_type": "markdown",
   "metadata": {},
   "source": [
    "## 1. Dataset is Used: brics.csv "
   ]
  },
  {
   "cell_type": "code",
   "execution_count": null,
   "metadata": {
    "colab": {
     "base_uri": "https://localhost:8080/",
     "height": 206
    },
    "executionInfo": {
     "elapsed": 194,
     "status": "ok",
     "timestamp": 1629121096669,
     "user": {
      "displayName": "Manjiri Sawant",
      "photoUrl": "https://lh3.googleusercontent.com/a-/AOh14Gg_gCWtWflMGGrHQCn9QlMZSxNVG4ndynt6ZMiyFA=s64",
      "userId": "18419725263817022624"
     },
     "user_tz": -330
    },
    "id": "Rrub8vTtMtgm",
    "outputId": "0ae1eef6-476e-4ccb-8a3a-a9f5875baf9a"
   },
   "outputs": [],
   "source": [
    "# the file is uploaded on Jupyter Notebook\n",
    "\n",
    "brics = pd.read_csv(\"brics.csv\")      # importing brics.csv dataset and converting the table into a dataframe (pandas table).\n",
    "\n",
    "print(brics) #print() dataframe using print()\n",
    "\n",
    "brics  # Printing dataset without print() Funtion."
   ]
  },
  {
   "cell_type": "markdown",
   "metadata": {},
   "source": [
    "* There is a difference between print() dataframe using print() and without print().\n",
    "* Without print() function is just displayed the dataset."
   ]
  },
  {
   "cell_type": "markdown",
   "metadata": {
    "id": "b2Ev7eqtTt2v"
   },
   "source": [
    "### If data is in local system/disk.\n",
    "\n",
    "If data is on local system and we want to import it in Jupyter Notebook, then we have to use read_csv and the full-path of the file address."
   ]
  },
  {
   "cell_type": "markdown",
   "metadata": {
    "executionInfo": {
     "elapsed": 192,
     "status": "ok",
     "timestamp": 1629121096669,
     "user": {
      "displayName": "Manjiri Sawant",
      "photoUrl": "https://lh3.googleusercontent.com/a-/AOh14Gg_gCWtWflMGGrHQCn9QlMZSxNVG4ndynt6ZMiyFA=s64",
      "userId": "18419725263817022624"
     },
     "user_tz": -330
    },
    "id": "Nh5EGcClUUZm"
   },
   "source": [
    "**Getting data from local location in a system.**\n",
    "* brics = pd.read_csv(\"D:/Aine Ai Internship/P6/brics.csv\")  \n",
    "\n",
    "The folder names are seperated by either a forward slash (/)or two backward slashes (\\\\) in the above code.\n"
   ]
  },
  {
   "cell_type": "code",
   "execution_count": null,
   "metadata": {
    "colab": {
     "base_uri": "https://localhost:8080/"
    },
    "executionInfo": {
     "elapsed": 192,
     "status": "ok",
     "timestamp": 1629121096670,
     "user": {
      "displayName": "Manjiri Sawant",
      "photoUrl": "https://lh3.googleusercontent.com/a-/AOh14Gg_gCWtWflMGGrHQCn9QlMZSxNVG4ndynt6ZMiyFA=s64",
      "userId": "18419725263817022624"
     },
     "user_tz": -330
    },
    "id": "26Oosb1tVgIX",
    "outputId": "4a8b79f4-5724-4b1c-e057-ea28314e6783"
   },
   "outputs": [],
   "source": [
    "# Data type of any variable can be seen using the function type()\n",
    "\n",
    "print(type(5))\n",
    "print(type('a text'))\n",
    "print(type(True))\n",
    "print(type(brics))         # datatype of the dataframe created above"
   ]
  },
  {
   "cell_type": "markdown",
   "metadata": {
    "id": "jzmIJdNEVYEa"
   },
   "source": [
    "### Explore the dataframe\n",
    "\n",
    "Intial exploration should be done on any dataset to understand the variables/columns, values, data types and the structure of the data."
   ]
  },
  {
   "cell_type": "code",
   "execution_count": null,
   "metadata": {
    "colab": {
     "base_uri": "https://localhost:8080/"
    },
    "executionInfo": {
     "elapsed": 183,
     "status": "ok",
     "timestamp": 1629121096670,
     "user": {
      "displayName": "Manjiri Sawant",
      "photoUrl": "https://lh3.googleusercontent.com/a-/AOh14Gg_gCWtWflMGGrHQCn9QlMZSxNVG4ndynt6ZMiyFA=s64",
      "userId": "18419725263817022624"
     },
     "user_tz": -330
    },
    "id": "adCtIDS1a14T",
    "outputId": "ae75a5e3-4531-48c1-eb13-a6a6bd6fd811"
   },
   "outputs": [],
   "source": [
    "brics.info()  # Object dtype can store variables with any or mixed data types"
   ]
  },
  {
   "cell_type": "markdown",
   "metadata": {},
   "source": [
    "* The **info() function** is used to print a concise summary of a DataFrame. \n",
    "* This method prints information about a DataFrame including the index dtype and column dtypes,non-null values and memory usage."
   ]
  },
  {
   "cell_type": "code",
   "execution_count": null,
   "metadata": {
    "colab": {
     "base_uri": "https://localhost:8080/"
    },
    "executionInfo": {
     "elapsed": 173,
     "status": "ok",
     "timestamp": 1629121096671,
     "user": {
      "displayName": "Manjiri Sawant",
      "photoUrl": "https://lh3.googleusercontent.com/a-/AOh14Gg_gCWtWflMGGrHQCn9QlMZSxNVG4ndynt6ZMiyFA=s64",
      "userId": "18419725263817022624"
     },
     "user_tz": -330
    },
    "id": "Tl91nRCabxqS",
    "outputId": "a37d0a68-a0c7-4ba4-d8e0-dd686d01f02a"
   },
   "outputs": [],
   "source": [
    "brics.value_counts()"
   ]
  },
  {
   "cell_type": "markdown",
   "metadata": {},
   "source": [
    "* **value_counts() function** returns object containing counts of unique values. \n",
    "* The resulting object will be in descending order so that the first element is the most frequently-occurring element. \n",
    "* Excludes NA values by default."
   ]
  },
  {
   "cell_type": "code",
   "execution_count": null,
   "metadata": {
    "colab": {
     "base_uri": "https://localhost:8080/",
     "height": 206
    },
    "executionInfo": {
     "elapsed": 160,
     "status": "ok",
     "timestamp": 1629121096671,
     "user": {
      "displayName": "Manjiri Sawant",
      "photoUrl": "https://lh3.googleusercontent.com/a-/AOh14Gg_gCWtWflMGGrHQCn9QlMZSxNVG4ndynt6ZMiyFA=s64",
      "userId": "18419725263817022624"
     },
     "user_tz": -330
    },
    "id": "oXXx48VSe4G9",
    "outputId": "a959a0bb-adf8-4ada-8438-0850649a2100"
   },
   "outputs": [],
   "source": [
    "# When the dataset is large and we want to sort the data by ascending or descending order to look at largest or smallest values.\n",
    "\n",
    "# Ascending order by column code.\n",
    "brics.sort_values(by=['code'])   # Ascending by default.\n",
    "# or\n",
    "brics.sort_values(by=['code'], ascending = True)  # No need to mention\n"
   ]
  },
  {
   "cell_type": "code",
   "execution_count": null,
   "metadata": {
    "colab": {
     "base_uri": "https://localhost:8080/",
     "height": 206
    },
    "executionInfo": {
     "elapsed": 155,
     "status": "ok",
     "timestamp": 1629121096671,
     "user": {
      "displayName": "Manjiri Sawant",
      "photoUrl": "https://lh3.googleusercontent.com/a-/AOh14Gg_gCWtWflMGGrHQCn9QlMZSxNVG4ndynt6ZMiyFA=s64",
      "userId": "18419725263817022624"
     },
     "user_tz": -330
    },
    "id": "feK8VemJhNQV",
    "outputId": "69901cb9-e183-4ce8-f5a9-36690c1b731b"
   },
   "outputs": [],
   "source": [
    "# Sorting in descending order.\n",
    "brics.sort_values(by=['code'], ascending = False)  "
   ]
  },
  {
   "cell_type": "markdown",
   "metadata": {},
   "source": [
    "* The sorting the data does not change the data in original dataframe.\n",
    "* Order of the data has been changed with respect to the variable.\n",
    "* It is sorted by the Code which is in alphabetical order."
   ]
  },
  {
   "cell_type": "code",
   "execution_count": null,
   "metadata": {
    "colab": {
     "base_uri": "https://localhost:8080/"
    },
    "executionInfo": {
     "elapsed": 153,
     "status": "ok",
     "timestamp": 1629121096671,
     "user": {
      "displayName": "Manjiri Sawant",
      "photoUrl": "https://lh3.googleusercontent.com/a-/AOh14Gg_gCWtWflMGGrHQCn9QlMZSxNVG4ndynt6ZMiyFA=s64",
      "userId": "18419725263817022624"
     },
     "user_tz": -330
    },
    "id": "KAMli6nKhUrz",
    "outputId": "3dae8377-5f51-4ec5-ad71-d63a7ac1080b"
   },
   "outputs": [],
   "source": [
    "print(brics) # printing the dataframe to observe output"
   ]
  },
  {
   "cell_type": "markdown",
   "metadata": {},
   "source": [
    "##### Sort the data to see which Country has Largest Population (Population is in millions.)"
   ]
  },
  {
   "cell_type": "code",
   "execution_count": null,
   "metadata": {
    "colab": {
     "base_uri": "https://localhost:8080/",
     "height": 206
    },
    "executionInfo": {
     "elapsed": 142,
     "status": "ok",
     "timestamp": 1629121096672,
     "user": {
      "displayName": "Manjiri Sawant",
      "photoUrl": "https://lh3.googleusercontent.com/a-/AOh14Gg_gCWtWflMGGrHQCn9QlMZSxNVG4ndynt6ZMiyFA=s64",
      "userId": "18419725263817022624"
     },
     "user_tz": -330
    },
    "id": "6tnBoufxh1yA",
    "outputId": "45796e41-a907-4b3b-a486-cf2bbd1a7d8d"
   },
   "outputs": [],
   "source": [
    "brics.sort_values(by= 'population', ascending= False)"
   ]
  },
  {
   "cell_type": "markdown",
   "metadata": {},
   "source": [
    "**Result** : China has largest population."
   ]
  },
  {
   "cell_type": "markdown",
   "metadata": {},
   "source": [
    "##### Sort the data to see which country is smallest in size."
   ]
  },
  {
   "cell_type": "code",
   "execution_count": null,
   "metadata": {
    "colab": {
     "base_uri": "https://localhost:8080/",
     "height": 206
    },
    "executionInfo": {
     "elapsed": 140,
     "status": "ok",
     "timestamp": 1629121096672,
     "user": {
      "displayName": "Manjiri Sawant",
      "photoUrl": "https://lh3.googleusercontent.com/a-/AOh14Gg_gCWtWflMGGrHQCn9QlMZSxNVG4ndynt6ZMiyFA=s64",
      "userId": "18419725263817022624"
     },
     "user_tz": -330
    },
    "id": "3xYHNNqIiA-t",
    "outputId": "91c4035c-ce1c-4f16-c8a6-33ba81a3cedf"
   },
   "outputs": [],
   "source": [
    "brics.sort_values(by = 'area')"
   ]
  },
  {
   "cell_type": "markdown",
   "metadata": {},
   "source": [
    "**Result:** South Africa is smallest country in size."
   ]
  },
  {
   "cell_type": "code",
   "execution_count": null,
   "metadata": {
    "colab": {
     "base_uri": "https://localhost:8080/"
    },
    "executionInfo": {
     "elapsed": 138,
     "status": "ok",
     "timestamp": 1629121096672,
     "user": {
      "displayName": "Manjiri Sawant",
      "photoUrl": "https://lh3.googleusercontent.com/a-/AOh14Gg_gCWtWflMGGrHQCn9QlMZSxNVG4ndynt6ZMiyFA=s64",
      "userId": "18419725263817022624"
     },
     "user_tz": -330
    },
    "id": "WjRF7CTLiW6d",
    "outputId": "a04ab0d3-2471-4b1e-9cd7-ff98e209ad14"
   },
   "outputs": [],
   "source": [
    "# Sorting and printing just one column.\n",
    "brics.country.sort_values(ascending=False)  "
   ]
  },
  {
   "cell_type": "markdown",
   "metadata": {},
   "source": [
    "##### Q. Sort & print area column on from largest to smallest."
   ]
  },
  {
   "cell_type": "code",
   "execution_count": null,
   "metadata": {
    "colab": {
     "base_uri": "https://localhost:8080/"
    },
    "executionInfo": {
     "elapsed": 125,
     "status": "ok",
     "timestamp": 1629121096672,
     "user": {
      "displayName": "Manjiri Sawant",
      "photoUrl": "https://lh3.googleusercontent.com/a-/AOh14Gg_gCWtWflMGGrHQCn9QlMZSxNVG4ndynt6ZMiyFA=s64",
      "userId": "18419725263817022624"
     },
     "user_tz": -330
    },
    "id": "bJXB9Fuxid30",
    "outputId": "0752d401-4c71-48d5-cb46-5df391282065"
   },
   "outputs": [],
   "source": [
    "brics.area.sort_values(ascending=False)"
   ]
  },
  {
   "cell_type": "markdown",
   "metadata": {
    "id": "9x_7SzUXiuO-"
   },
   "source": [
    "## Indexing in dataframes\n",
    "\n",
    "When we print a dataframe, a column with numbers 0, 1, 2... shows up at the left side. This column is called Index column. An index column indicates the position/row of records.\n",
    "\n",
    "\n",
    "![image.png](data:image/png;base64,iVBORw0KGgoAAAANSUhEUgAAAVQAAACZCAYAAABwk8JrAAAgAElEQVR4Ae1dP4gcx9K/UNFnZ3YmbWRFRpFxZBQZJQYnBifWeQODAwcOHBgcPNhjuUCBwInAPHhgDpmzAvEi4+jhQCxGHHqPF9i8L3gCfSCjROHK+tcfVdXVXdXd83dn9mZPtXDsXE9Pd9WvfvXrmpnd2T1nL0PAEDAEDIFBENgbZBQbxBAwBAwBQ8CZoBoJDAFDwBAYCAET1IGAtGEMAUPAEOgvqOu1c3/7m3Mff+zc5cv09/nn1Ab7tvQ6OZy52eHJlmab2DR3l242W7qz5f2JW85mbgZ/82P3qCXklTxAjGZufqvtSC0ntG6niIDnSMqPTvnQj2dNTvcT1N9+c+7iRef29sp/b77p3NdfO/ff/zbNv/H+ykTaeOQdGKATgXbAH2Hio1vzYQRVjGmbZxyBHvnQlWdNCHYTVKg8Dw+dO3euLKQlgX39deegcq2tWsVqMZu744fe7IfHbs7ViqzEVLusUB+547mvbuQ4TSiMtB/F3tsfKiRlO1eXZDf3iUGm9uWtiMPyLhgr/Uz9BSzn7vgWVK+wj/BEW8SKnv7fDoLcHrbZuXIM0ZfD4xgXtkGRn44l38iSiEG0TOIZKnOFp65scQyPvxwbRpRjsQ+ZrRM+85G+cYzBrzof5DHss46bzKWI+1BbJcxlW4ip57fkfbBXxjvEpykfOEdy/xAT5uQAjrYXVDi9h8qzJJpt2q5cce7x44LJHowADnehJGMgEXh0vNDuj4U+3H9ooNiqtu9EXhZMPqpgO/pEGOS2M1FonMwnJUp6Dj5dRtwAH9U3FzA+uv5d2xPH1DGUvtP2zJGgiXkb7Ml8VYZpvGBX8FP1wz14CUEKqrTP+QSF/cpWbBeLezbudBqk75U+AN4sHFW+VbUP4KrCvDiejGkVz+KB0ufQqjgVWuNGwT+0i3GJPXtvtRPUL7/sL6RSbKGy/fRT5x5yCeocEbpAXARHtDNYCSgRWA6CWI1kVdsboj4HSnKI46t88itylaDm7X5MxkRMwRWHFBDaXSVm6uCGfxK/OBb/ogo6zMntD71IBcKK45XtwjZvQZHoeIyIr1iEIw9SF9KxPU/CsdEmNafwIR1xEv+jfQILj7HyQRiK7eFsj47jeCF2Yh+3i8M33IwYZwMVY5r0L8SiGG/FqThTnX9VeMWju201C2qTmP7lL3HGH35w7t13m8X3woUoqgWwcEAEp4ugpokTzdr+VkIINqDKp60IaqziimRkG2vfE784dlsRVIovLy6pD+n/0Y2UF+RDvJEZfVLJxb6JtT+Oedpb2gdpt9yWVlbioziZYiVH2GQ7YqxHqYpp0r8Qi6I/JUFt8K8KL21n+//qBRXEUlaYchvu7K9W5ZngZtT1685dulR9PHw6AF8EaiQ4D1kFtgy6PhZBDtUQj3M672hLViFX+RTFjitMOj3TxMqCr8jCfkp8uM2/IzGhOhELVdKl/l9tT8Sb2jmG0k65TZcI/NwiSbDPjC8LkAXqOGwSfrEfocr0+BVjL47zztF8/nJMagePIdrrMTmNvTIO5B+fzue4efuKXHHqUlApDkN5V5cPWBGrmEr/yrHF8UT80c6Sj9gmLpk18mwzj6sF9d69shjCaTtUom1ecM30ww+rx+FTfwYzvYGAYPBpTbweyYEHYVgezsXHpjy5+PQlBbyNzYP18SKT2lLhE4mNPxU75Otdmlh5ssg5WCRzAYku+f4sGnFHyy05H9gaY8LXIuWNMBg0xsr7hjfVcI+4UbV0y7kXVIUPHaOqUsRz6Y7hUwAyvpJD3j9KYhqD7GJ7tR88vsJ30oIqcfU3IL3PyockqhoPxkLkjL95OPwpfxJviKGPXbRJxlTHR/GswI9orzxO5wPGX/pXGId5kMDW6d9qQYUKUlaksA137EFou77+8Y9ytQo3uuy1RQTqxLaNGUTYLsSrS/A2M1qfVxGB7jybCkplQYWPOJU+Z9pHTNlTENVUoOGygb22ggBXAl3EMDesO9FNUHMUraUJge48axpxW/vLggofcUrFD/7f5AUiXfr86hY+/L+J2XasIWAIGAJtEchVEm4mlcQUbjBt+ip9YgDms5chYAgYAmcAAS2oUEXWfXgfvk66yQs+FZCKdbjbv8nAdqwhYAgYAqePgBbUGzdywZMCCJ8f3fSVnvbDtVp7GQKGgCFwBhDQglq6sy8FFa6tbvoqfTa1+JXUTSey4w0BQ8AQ2C4CWlDrPsgPlSR/bnQTG0vXUdt+rnWTee1YQ8AQMARGRkALaumjTSCAQ75u384vK8CH/+1lCBgChsCOI6AFtVSh3r7t/vOf/wz297///rd78T//k4nq//31r4PNMaS9NtZwsTcsDctd5UBbndeCWvr86ePHbr1eD/r3/LPPMkGFz6g+uX9/0HmGttvGG5YHhqfhuSsc6Ceo6Uem4KumDp4NPWzgQThfvvZaJqrPrl0bfK6hbbfxhuWC4Wl47gIHugsq3GmXd/RhGx7FN4KgAoBPv/sum+/5Bx+YoA68eO0CWc1GE9Wpc6C7oNbckBrL2fSrqC/eftsE1QTVOGAcmBwHugsq/FZUWqH6p0GNJaggoHJOuAww1lw2rlVBxgHjQF8OdBfU0of6/YNL+hrRdNzzTz5Rggri+uevv5qoWoViHDAOTIoD3QUVHqWXVqh+lCZh7Lv/6bffZnM+OziYFJB9fbPjrBoyDpwdDnQX1PT5p+J7+9XEWLkFP5F+tnCrjqsqVKOpiL94771cUO8fuf0wj38C+9Uj98DPtzqQT2XP91fbP8WAP3BHV1N/9t3R/SFshXjRWA9u7rvZwSrHumMMp4wt+hh4I/kpMZbtayePWdwZAnM5hswXGVNpD8Re27Re035pj+a8H6uUJ2IseQyPJdvoVw1mbv/mg63xojQ/27YZtwRmdxZuhnoh2jryvLuggoDKClU8tKTKMQRDGNonQV+eP6/nPXfOrdPPviJRcgIy8GiHEgciLu+vsn+a7RR0SeoxxG+MMSeFJ3ImClPkqhdNzxdoD1jLY0ISSkHcbFvyFPEPRUFc6HIMowhHPrcTBpiPj1HxBj/D3MKnqvaO4pP7IOZIxpKY4HEj4L4eYMzugpo+BUo8Tb8MEAWayYgBE6th+Zgc2OJ11F9+0SskEr2LoK6dSpQkiG1tO51+9YJKibHAMwPEHrGJFS3HA4kaqrOZX6Fj4qoE2yl8cg61ilNIqgTf0O6FNghNxKrV+C0wlJjL7TXGMIp/nA9shXbKNRbHNf4v86GAifCLKtyG/oUqONpRGL+Fv22OrxVU9GHhFnDGhgsgxY4raao6wTbCh9sJJ+qL2wEL0bYmjeBj8rMC7XN3QZXVKWyLJ0uVgSEnOIGRID0EtfR51OwD/oloAAg8L9iWBSUjoAan7M9U+iSkAVEMSc6npDH5HtxZhUsfVSsx4EMkiyKhEnqg5JgyroABcUYnFWLmeasxSUVsGH5QnrAtNCa3cXJLbhOmiS0gEHKxVGdnMCb4KAWU/l8c7Ifjojh7v2DMbJxhfK7jBeau9EVqCPop/Li/cqtw6auCyyXxLLWtV24VLukknCjkQzdBhadIpYL66adhjDIgFGQOPpEiJnr5mDxApeuozz/6qFWFynPnQeEVLZ+vrV2n14+Cy76BHYitF1W5HWyUC44QX9gfxRSwqCBhgUBh7DOwDzELYpEkDyYt8Vb3S0RsYxx0XItxxDlK85bamNt6XIwb8EHxgI4PnBI+c5w1T3js8d8xd0Ns1k4ucGo74E/+0oLixVbwPy4UIs5FQSXfpHbEY3O/gxg2bNB3+eHjUamgiqdMMej6XQcJCSJXlwBAbpweZ519DRWuq6o+CJhYqVhkfCB0UOrI12yLmreDD8MdV5EgsooSyUKE8AtZIA75CTEJSRSSlXDU4rELuPSzEfDRGCT4Csy0yAGPNOc2i3EyXoHTNH5iX4gbn2XkOGj+0wJc8jkIRjY32Na9GNoMD/IjtV0u+pmg4kLAOCR4Ak5+P52+NwiqF2HCSfStyPkGHQ27SVBLP00CT57yryrgEAxMbjKo7ykD3NlPBf3JH39EUc0IoEmXBSXrn5OwyqfTb9e+gT0y0eU27APfOXliPEpJBRhEEr4Kggp4BBERiSJ9l/ipa5lCaIfhRBJXTP5YGXMMyYZUyCFuwhc4NlR1yb7sdJ+4L30uClUYb7u5gpyVcwtcinZyMYH9YnGg8QNcCW+MP/QVOoVtqBF+EfHiWuIKx561sOmdBLX0tdMWgqovBvdf4Z599VUmqH/KG1PeYXXdiIEtXkP1IjRohbEtohERlK/Cj1RQ46o8c4ub8PEyiAMlmR6D2yMJY1Juy7ctzoMJF2/WIRaBMwLj0Ea2Ib54TS8VtSFsl3GR4wt7kvsDlNCpaCY3VKQgYexLuSjnkHNXLb5D+Ns8BgqquoaaLByqchb4HRzhxwtJBKVvfDy1VQqqF1zmxZEoTFhE5XuTkPL+DQW1GTBpVNV26QP+T7//PlaoorqoGsPah4mF4Wg4GgdyDrBgNr1PQlD//PvfswrVvjGVB9WIbpgYB06HA01CyvsnIahP/vnPTFDhIdRGntMhj+FuuBsHNAdYMJveJyGo8M2o9KbUi/ffN0G1Sx3GAePAJDjQJKS8fxqCul67l2+8oUT15VtvTQJIW6n1Sm14GB6vIgdYMJveqwX1xo1w7DYAfPHOO1pQ33jDBNWqE+OAcWASHAhi2LBRLaj+4dJw/FYEtfBZ1G3Ma3NYxWUcMA40caBBR8PuyQhq6SEp2VOnbLXeyuLWRC7bbwL0qnEgKGbDxnQEtfDT0k9+/90ExBYR44Bx4NQ50KCjYXcrQQ29x9yAb2alzxO4d2/MGW1sQ8AQMAQGRWA6glr6kUD4Sqy9DAFDwBDYEQSmI6hwEyytUG/f3hEYzUxDwBAwBJwjQS2JmbjLvxWgpmDDVhy1SQwBQ+CsIlAtqD/9tF2fTVC3i7fNZggYAoMjQII6heuXJqiDB9cGNAQMge0iQII6hTvspWeybvuyw3axt9kMAUPgjCFAgvr55/kNIfhZlG2+TFC3ibbNZQgYAiMgQIIKP8iX3mGHH+5r+To5nLnZ/Ng9atm/2K1GUHH85Knecj7cf3iihoW2+a2NLFLjDf7Pw2M3T32azdzy7pAzPXLH86HHHNK+7Yz16NbczRJ+0MwnblmBeYlTXa3V89Jc+lcU5u7Ypxn29XyQHJDcl3yW/aVvqn22dDorwIPUZ22XnKOrv839ea7ELs6FYoyaR51SDxLUDz/MBbWllSHgYwuqAluTokR+aBuXHC0BquqGJIoJBd0wGTbFsWq+V7Q98FPxh8DgfVLAcM/dJf3ccuGYtjDy2FLs5LEQ68BP5IIXGZibOYB2sPiIxVFxR+SCHAeks1DosF3sM/yv7RhzAQZb526eLPJhEdgAb4ntaW6ToF6+rAX13LlWNlFwCKBAglZHFjo1VagJ2JIIaEfN/sJsp9+kksKbIxOiKpk4Ubi6DX7z6k+/o0QJI5IwPa5YvZw+LENaAIkKOJT44QDfw+NCBQ84Lt1xZVXbbGHtvHC4jHO2kJLoQOWKQhPiS36Q+MU+VHHqhTlYKMUZGit95iM0X7h1uHdv961lFHEHc87d8lCeRZAdVM0L3xA3/p0w0Y654tsFXuhvkicKU4lPEpO+PpOgXrqkBfXChVbjnRySU0hYXlVbHVno1ElQITBxJS0lDLSFlbcw3ak3YQAFKdLEQpJUVSfcHhOrTBSZICfuJFxOkO2njsToBuT8ANwAwxwH6AsirPDsaWE+Lw3Ec/Cwei7B7QIHYsVL/WY1CyPME3Og2me2IxX60D7YBtgwd8d3j92c9QLyYH7sTsQCpnATGEh/ImYCLxlPlV8UZ8RCCOejW0u3PFzSZRcprhv4S4IKAiqvoV682GlIBIAB6nSk6NwkqLzS8LtYiVQA/JASfDHLdDYxsLza8rsQWEEkJ4nit3H1FhhQMtA4fDqnjyPXESuPYew3HVjGsCTlB/xPvieCCph7TGPC9rconddHwIt5HFfPJQXCV9cYL1HFKW7o/jyqHpPGKfrMB+C1VcG/0D7khhfUh4A7zQV2gtBFe5OYSLvQb+C4sFMIpLIU+gpNiuNLG5bu5O4yLKBx8VEjdfqHBPX117WgwiWADi8kjjC+w6Gxa5OgBvHICRTBisOBTUMAFEcceEutoIXrpyppUpKBLYQDCKsSxkC6pALzAk6YlMYb2L8JDaeFLeImbxABhtiPF2x+D7zr7pCe1x8P8UnGRP6G/OGEz+djTqd8T+fhfnGEap+xT5UoxQEG2oq+gQ/zWydKWAmXlJvxGDYC/Yf4AGZVtlcKKi8uJ24JcYDj8dKPEGmeqMc7CaqsTmH7ypVOQ2FAAyE6HRo7txZUvgYlAFDiw/sToYkzTWMLiSB84GucnGxyP257f2A7YB3JRwT1n2rA/iVB9ZcK5HjTQGNUK1LBiZNF/GIbbaWile5v839pXmhTCyAMFOLlr3NyfKUoYB/PF8V38oGLh+L4ytjEZxiX51P9xvhHiCPOO3dzf8lC4q1wE74q3wI2tFjI6huxkHj5szrGCHNlzjcFH7njw2jHpl7vucIP5Dn4GFWHFwKwaVC6CCpfbxSlPwaEq4rZxKtTwFYFnMEmcsiVGquo+dItxZ1R5SsLsLwUEKpWmTy0TeMdu+OpV/AMyQDvKkHVeBIftUOcgur2Lv/l88J8ehHl8WJM9X4cw/NaCnHsP4sVL4oPXz7y71leSp8FJ0TuyHnYvmHehaAyXz1/0Z8ilyUePj/QVtGOuVTwV+IRxubciwtbHqf+3u45+AB/WqHCB/23/bKvnm4bcZvPEDAEBkZgz8FDnFNBha+ibvtVElR7fN+2o2DzGQKGwAYI7LnSqfZpCOr167mwg232MgQMAUNgRxDYc1AFphXqaTyUpPSAFhPUHaGRmWkIGAKAwJ4rnWpPRVB/+82iZAgYAobAziCw56Zyqj2FJ17tTNjMUEPAEJgiAntuKqfaGz7xaorgmk2GgCHwaiGw577+Or+Guu1noQLm8GWC9FruqxUL89YQMAR2HIFyhZoI6nq9dmP/vXjnHSWoL197bfQ5x/bJxh+fN4axYbwNDrTV+ckI6svz57Wgnj9vgrqFhWwbZLQ5TPR2nQM7J6gOnsEqTvlfvPeeCaoJqnHAODAJDuyeoAoxBWF98f77kwBy11dWs9+qQ+PA5hzYKUF98vvvqjoFQX3+yScmqFadGAeMA5PgwE4J6p+//JIJ6rOvvpoEkLa6b766G4aG4a5zYKcE9en33+eCeu2aCapVJ8YB48AkOLBTgvrs2rVMUJ/++OMkgNz1ldXst+rQOLA5B7YjqPeP3H54MO2+O7rfz/BnX3yRCSpcBqgjwupg5mYHK+yD27OFW4nVHNr2bz6oHaNu/MnsQ4y7Yfvg5r7H5oE7ujpzizv94jIZDERcq23KfUUcAj8FPxRvI4/W65VbhP4j8EfNK+ypmVf54Pmu2thev299Z0E/ge3bQw5Uzr12crx+XCHsZ1eP3IMQqzwe1bFryc/EN3xYOvsd5i2MBcehbWRTwEQcgxjUjLUFQdUglkStLYDPP/ooE9Qn9+/XimEuqDoBTFBpsWkbg93uF4UwCAIKSBQt5AsnfEgwnXyKM16Awngi+fphpQUm5W9IcjkvbvNiSj7m9kB79LMsDImQSP8lTrK9k79eC2Zy8db+9sNMx4cWi+jreu3nrRFCnDf4leDQwcctCKp2llY56azeXwfoi7ffzgS1rj/sSwk5OzhyR1eZfLQ/kLQDcE3zbn2/TCokxsItrvqfe2CBAP9gH1Yl+25xUK5QETOuaEQSbt2nQeMBSQK8qxIcz8OQVL4ia0pCn6y5gLXndR2uSrwVHlKIwCfmtNyONqTjpP+TDcmxQkQxbwOPkn7Krjhn7hcL1ZEQd+nH2q1xTv55Fq8TIia0n/Wjwg7kOPfx9ghfwC7J8ZD/YR5v58EinFlzfMsLUfR5u4LKYIXARENy8PN96Yf6X771Vm11GoDzSYEgwjYAJ9oCoK2JkdvWxv5R+yC2PqmQUDLBuCIAAvI2kYZwkKReuVU49ZftE/S5V7wkBrlPUWg8PmFhYTyTY5JEHSzGnCtVC1o2L/k1K/WHvirnuG8iXH5xCPkgeKSFpB7DagwIUxgfxqN5JMdg3IhznFO031m4xcGCLk9lGPjYoN2JoOJCSmPHcaG/Hlue8vOlCezv8dPHJlxYr9vqqRvgq6cUBKiOWO2rgc8N/fPXX7Pq9PkHH/QTVFyhCNyYQPmcXew79b5ILk9GRShBWNUuKzDRx4uUXMH7xOvU8agUW+JhyafaZEmwI/9EMlbOtyGv2syr+uT+gV9BJAt2SsFQFSIIlxc4jU0+R7t4R0Gl03AQPcE95DCLPL/rPquDfXd058gt4L4H+F06g1B4MP4xVpLbdLbmLwPCcSic0k5/VjctQaUAgPF1ga0LSvEjU99801tQkThXj9zRWbwppQglCKvaKwTVkzqvHpiYu/5eFoPGhVUuWCBK+H9aBY2ATYt5tdjpy1wkXLHqK+ZYwovQR/ioRFdWdQWBDsdn+wpChZfgfJEl5kvHgPn3b67c0QHc0Fq5hc/d0sKYX0PV8aqM9akL6mqlStwUBP6fV4S+YgrjwAf45Xf4YbvNR6ZwbnF6L1c0JMkGIs/+TeJdJp5KECGomAh8hkDt2Sm/JDVuc/8RxCJLuG3MkQsqcCRPTMAnCpESFMBFnUIPaXePeQvxDrlWtBUwiItBzBHJlUSYJS+C8HT1m8YPtolrmYQ/xYb3K8xxzn23H3J53+2L+KgcVHiAjTQv5z7lPfsv+BD8SuwM7bIIKfuuBLHmnz13eJgJGv5wnzhIORWShQzm0pre2ZmyUaVx4CEoqaA++eOP/hUq2qcDWJp3Z9qQ8A2n/OAzkg1Op6puSnnywbXDs1TBJ3wMAhrw4FNM8hs/1oOYcjuLq8AnXF8tCXJ7bmccU/NyrtTPy8UB5pc8DQb/5P+Mg/Kb5+BKzvucLBpxDsaiq4+JUIEt3tcQj6LvMI/OVSW27BO/K9+8LwkGXOSps2Y4bmun/KXflEp+HC8jBju46fvjxy67IWWP7WtcTEaLx6bxtOMtdmeUA6K+rN1s9SN9YyVw6Tv89lCUrtWB9R+LnzaucYs5UKuiYuee++mn7JQbfwlVdOJBh34vfuX0229tlT+jq/zQ/LHxTPC2xQEhh7Wbe3i9NHkWKf4SqjhsLKOff/ZZJuZNXzkdyxYb15LTOGAcqOKAkMPazbKgwi+hilfVJJu2l74h1eaG1Kbz2vGWOMYB40AXDgg5rN3cc/CDfGmFuiVBzW5ItfiGVBcQrK8ljXHAODAEB2pVVOwsC+rnn4subpRrmn2/ITUEODaGJZlxwDjQhQNKEGv+2XMPH+YV6qefqkO6TNy277ODg2xeuEnV9njrZwlhHDAObIsDShBr/tnDfekp/8cf1xwy0K5LlzJBdffuDTS4DWMIGAKGwPYRKAvq5cvjWnL7di6mFy6MO6eNbggYAobAyAiQoL75pha4sQW1VJ1evz6yqza8IWAIGALjIkCCCtWhPO0HwRvrVfqqKwh6h2cOjmWajWsIGAKGwCYIlAV1zNNvq043iZcdawgYAhNGgAQVTvFlhfr66+OYDDed5DywDeJt1ek4eNuohoAhsFUESFA//DAXujHMgC8MpIKafIlgjGltTEPAEDAEtoEACSp87jQVOvh86tCvknD/9tvQs9h4hoAhYAicCgIkqF9/nQtqG6F7eOzm4WG8S3fS5MLFi3qec+eajoj71VwzN7/1KOw7OZy52aGeHdpkn9B5BzbQnxKud5duNivhfOKWs7k7HmEN3AG4vImP3PF85pZ3hcWIl38Q8fzYBcYkXGLuaNzpuEE5pOaVcSTb48Pa4z5pk7JFjiV9q/LZOSfHUjghZBPgkLSd+Z/ktYiu34x2P7o1dzPEIrbl/cdtIUFt8dT+3AxPAnTAbzc53/fTBAi0FAyajwmGREnmhjben9s+1ZYCjui7TzC5PVUXTsUuSCASwCgUMqk0XxzgKEWoZDMIVlOf0nGVbXU2SFvFACredDz5p/sD12M7bzuHAuPzQm671LcgzjLHhB3b2lT+wqTaz22Zsck8JKiljzLBh+9bv8DxvErMDk8FteXnXYvi+PCRO3lINceZEVQkdqxOGL9HD0/cI6g+PeGWUJED3iHhI/EocZZBYLj6grEQJ175i5Uuz7hL7yA0gBlxMAqq9EGKkRYa2Stu6/6xfZOtGCMcRcZabosplAj6+GGRADxICohsTGiAfqHgqRLLE7eEPmhDVR9h1JibTYKKNnruB/5GXBEv9DdpO2zIh/nSLdOzm55+kqCWvrkEItvqReQrBjg9vpeg1iUKTaCFggHfvQo1EiIFzv+PhOMKROKSEIjJppLkxJ2E0+ExBKPC5q01SzzEpB6zuPh4voaFpSAicExJsMSw3Tdp3nDWhHbR3Bj3YI/gLfbhBVbkGdonREItrMwPv3AgF+DYuVsezmkhnsU+wQ/FldC63Q30N+YvFA1xgYwcB6PiYhPbY/4kbaV8kNh6oY5z9XebBBV+Qyq9KdXx7juJGge/wqBegkpEqnP2zFSoEOSQHAUMJQmcxCUhUBgjtvNocvGpw5T77847+CoTUFsek023c9Uvr8ADRqNgIyssrJoKYp5U2jFeXhAPT0hMWCQ8D7RQkyjND5dujv0IG90nydXJCKq0S8RUYhcWH+gbOR5jXGqDuMd2rRkylxJ+dPyXBLX0TFS4UdXhhc403RjpJah0qhrIwDYhwAS+Boc6QFt2DB871XfhkzQx+LKJoHpCEibDEUjaebrbIvlKhijsRAfERQobjCOTWvQdcrMi1i4VSDGn4kFYNP2lnFJFHRboJN6Zz87hddWm/BW2jLJZiFHwuRKvKJLTEdQWj/DLASQC8yA15KgAAAp3SURBVKkROF5bXcEA6TMD3n03H7bUgkBL0hNBWDBx7oRQIRCl8SbbRn4xpmimJJnc7lqhSkLi9khV2KlhmwqqFsbIEcA4cikmoTccME64NIxLWtSiPXT6ylxWwga2sHAqEYwiogW4ql2eIsdr8bIqV/MO43D3URS/4XAZU9pmnGLcos/1bTyej72ca8B8oAoV5kpP+a9caQbEG0If92ixqqcfm4KKte0LAYjXVxhYOFySk4fbTUEF672oqtMa75UkQVdBlePOj93xLlbwHNziu0w+iZfnDAsT7FK8jeIKuyApJbeKU/VtlPNKe2RsZvrMCrntuaAuQ8h8kAtAVbuaQ/uM7qBthfa+vvY5TtrO/Je+SfzCWURPQWXdgHkGvykFzqfVY8s78J1w29ZXXDsZZZ0NAUPgLCCAFaoU4LZODbiYxAo1vb7ZpXpsazg8uDqthNsea/0MAUPAEKhAAMW05qZkdlhSDQ91VhIFdRvVY+krrnBDzF6GgCFgCJwBBKoFFSrJoV8mqEMjauMZAobAhBCIqlkSu6Efq1eawyrUCdHBTDEEDIFNEKgX1KHFriSojx9vYr8dawgYAobAZBCIglp64tQ2BHUyUJghhoAhYAhshkAU1NLDn+ErqUO+Ss9DHXJ8G8sQMAQMgVNEIArqjRv5R5qGFlT4ZpT82NRYP7VyioDa1IaAIfDqIhAFtfQIvx9+QGTW67Ub4u/l+fNKUF++9dYg4w5hm40xTIwNR8PxLHKg7RJRL6j+EX5DAaSq07099+K990xQB1qshoqRjWOCaBzIOTA5QX1y/76qTkFcn3/yiQmqCapxwDgweQ5MTlD//PXXTFCfffXV5IG01TpfrQ0Tw+RV48D0BPXnn3NB/eYbE1SrTowDxoHJc2AnBPXpt99OHshXbSU2f636NA7kHJicoD798cesQn363XcmqFadGAeMA5PnQHdB/emnTPBc27v8dxb441+LO7my82oH4pne5e8qqA9u7ocfGYOHWu/ffJAE4oE7ujpzs4NV0l5tF9sn35vn6TDe/SO3P1u4FSQN4uS3G5JodTBzs6tH7kHSD9vhobipjzB2ob/0y7Z93DAm8WHlEUvPH364MccticHGOGaxWrlFmFPyOrEnjfma9uu8E2NJPiifIwcDn4rzd+B5F4yULRyHaFNbfDFPM0zqbC7hVdc/7usuqKUf6mslqDGAOrDRGACoJKh//vxze+HDIOy7o/t+XB8UNSe0XV24xdXuwQlBbDNPF/JIEZXbtWMApgu3OBD+Yn9oT9s0zsGP2vFf8WMyQWM8xsc3LNZC7EDUQnEgeK0Fg/Is9FvT/1BYyByIY0nxkNtrhyJaEiLMn3wRH5xTaY6ta2yq4XGlHzXH9PVlGEG9fh3HqTMCnbq67/aTwKbHPLt2LatQOwlqCzECAgLh+D21odX/jfNEIs9CBUOEDWQPCSv6AoH92AuoPqEiEEmlbIN+3D8Qn+agn5uBBQPG3kfRRTvCnGu39kmZzoGxCpXIBovOCIRV/o88vhYqFlPGbURc7iwCPytjX6w6yUaIH3EMuMAckIJKfGOBrfIzjiN8r5l38NgUBBVzA/PBi/8BnPX64kHymXMOc4nyiPyV+RGLDsJggWcA+zf/hWewjE+XfBhGUP1PSVcC6gVi5R1mQ0v9n33zzWaCyquYF4R8LiaZT4wqsWqRrBJoPQ8FjYUTgyVIwO2RHMlpvicBjanJLzFbhcoU+sgEJxGlKp2Oz+fUNsbkWblVuCRDfbRvMrnO8jb5TgsTJGSSfGHBYfEaHovIm8LYmEsy5txHxl62pYKa+CPzIAhTYXzgZli8efyR3tGOaCdwH3MO5/fxCbZov+UiEY+Rx+ucw/4hhyTvu+VDd0FdrTLBc7WCSgmNSbklQQ2iE4ghggJtIQgAnNjXQkTD2LJvNo8OLlWCQE4KVC5uOrhcoeL11MqKYOUWIgmANFH45PwCf7AZEgKPk33yhEASVi5Kef8iLhKjXd/moiDzI8E3298fq2pBrYqdFAI5b2qjPr5ynoLPmmdyjhG2Q17x9VN4Z5FPcqmmbxTUFJ+Ig8Yg7eeFuEU+dBdUeFSffHAJbNcJKgZFAkLbMfl1IIoV6i+/tL+GWiA0AMoiJoWCqw/et6koxHlioHBMDPawgkoraoJrWCjk/LAtxLZJUD0xCZOcWJtitLPHIy6lxTdJ7AL/+vqsk9znSeCSzpu1v7QT7h0oOxIO+OuqnIM4T+COGDfzGcZhQRP91FwDtmfzy7ET3CtxkVVpyueYJxpr0Q/HZf0Q7RU+DyOo8IxU55pFzxvHgSwRrSSoT37/vXls7yAJjQ46CB3NGQEMc9cEIvQpgFc/jw62DBYKuicvbnOVKasBuV2sUEuBlb6l2+y/rFC1jcEuiUeLeNVhtNv7AJ8ooDKGsB0WYcQo9hvSZzknjgtzMV8UJyHemvPaDtgvOOBPnfNFs9pnHA94WRJeZYsUvQ23a7HV/KUFhYVvjfdH+Ppz4La6ZKDPCjXWNDZqBtrgscVtjaPGed1WT118OMrDh3mFCk/Yn4iggoMIYOkaV6jOZKAFeB2JUTkPjkMkjjeH/Jwolr5KhwvqnCA+WOEmU0iQgn0yyMJmsIeSpI2ggj0lG2k+vlF1FMaUmL0i2xwT5JIUTYFR8WN5w+BTSnI+q+J3SPqUh7AvCL7goi5kROylSCqftUirhUTwLhWVwf5HWyTuEleKgfKzwnbEMSwoMnZx7BLWhJfof/XINeVDW0WNggpHpKf88EDoNoLaIgjPvvgiG79LhTpYMFvYanNJgtu28cE40E9Q4YHPUlThp6UHElR4spQae2/PmaAaUU2sjAO7wIF+gnrhghY9+H9MQb1/v/U11F0A3Ww0cTAOnE0O9BPU9CdK3nxzVEE18p1N8llcLa5njQP9BPXKFV2hwun/QNccn3/wQTb2WQPd/DEhMQ6cTQ70E9Qvv8xEz92+PchpOfzcSXoN1ch3NslncbW4njUO9BPU27cz0XOXL48jqOfODTLuWQuc+WNiZByYHgf6CSp8FvXcuUxU4edLNg1yWqHCL6BuOqYdPz3iWUwsJmeRA/0EFY4qnPbD9c9NQcp+QtoEdWNMN42JHW/iZxxox4H+glr6xhRUrev2X7/KJi+N6T/jmvW1BkPAEDAEdhQB/U0pdgK+ISU/4A/bcH217wueq5qOB5WwvQwBQ8AQOEMIlAX1hx9yAfRfQ+3le/qFARBX+IUAexkChoAhcIYQKAsqnN6nX0MFEYRH/HV5wTjwgJW0Or14scso1tcQMAQMgZ1AoCyoYHrh5pS7caO9U/B7VKXKFMTV/7RK+8GspyFgCBgC00egWlBLv4IKYnjpknMff0wPn4YHUMu/zz+n/WlFKv+H6nSTG1zTx9QsNAQMgVcUgWpBffy4+JnU7PRdimXTNjwboOtlg1c0MOa2IWAI7B4C1YIKvkDF2SSSbfeDmN67t3sImcWGgCFgCLREoF5QoUpNn0DVVkC5H9zcOjy00/yWAbFuhoAhsLsI1Asq+wWVJdykguunLJR17yDCUN3CjSkQZXsZAoaAIfAKIPD/FSWFS2CjZMcAAAAASUVORK5CYII=)\n",
    "\n",
    "* If our data contains a column with unique values such as StudentID, EmployeeID, OrderID etc., we can make that specific column (with unique values) as our index column.\n",
    "\n",
    "* In this case, we can make code column or even country column as index column."
   ]
  },
  {
   "cell_type": "code",
   "execution_count": null,
   "metadata": {
    "colab": {
     "base_uri": "https://localhost:8080/",
     "height": 35
    },
    "executionInfo": {
     "elapsed": 113,
     "status": "ok",
     "timestamp": 1629121096673,
     "user": {
      "displayName": "Manjiri Sawant",
      "photoUrl": "https://lh3.googleusercontent.com/a-/AOh14Gg_gCWtWflMGGrHQCn9QlMZSxNVG4ndynt6ZMiyFA=s64",
      "userId": "18419725263817022624"
     },
     "user_tz": -330
    },
    "id": "m7pqdNoakOwo",
    "outputId": "13fddef3-1ff8-4b8c-cdbe-c352d738261b"
   },
   "outputs": [],
   "source": [
    "# To fetch data from the 2nd row, we can use index 1 (one)\n",
    "brics.country[1]"
   ]
  },
  {
   "cell_type": "markdown",
   "metadata": {},
   "source": [
    "* Indices can be used to fetch data from a particular row."
   ]
  },
  {
   "cell_type": "code",
   "execution_count": null,
   "metadata": {
    "colab": {
     "base_uri": "https://localhost:8080/"
    },
    "executionInfo": {
     "elapsed": 110,
     "status": "ok",
     "timestamp": 1629121096673,
     "user": {
      "displayName": "Manjiri Sawant",
      "photoUrl": "https://lh3.googleusercontent.com/a-/AOh14Gg_gCWtWflMGGrHQCn9QlMZSxNVG4ndynt6ZMiyFA=s64",
      "userId": "18419725263817022624"
     },
     "user_tz": -330
    },
    "id": "x-W1Z1rtlLW5",
    "outputId": "24cc08a2-e061-47c8-9730-1691d4f8b383"
   },
   "outputs": [],
   "source": [
    "# Getting single column from a dataframe\n",
    "\n",
    "print(brics[\"country\"])"
   ]
  },
  {
   "cell_type": "code",
   "execution_count": null,
   "metadata": {
    "colab": {
     "base_uri": "https://localhost:8080/"
    },
    "executionInfo": {
     "elapsed": 98,
     "status": "ok",
     "timestamp": 1629121096673,
     "user": {
      "displayName": "Manjiri Sawant",
      "photoUrl": "https://lh3.googleusercontent.com/a-/AOh14Gg_gCWtWflMGGrHQCn9QlMZSxNVG4ndynt6ZMiyFA=s64",
      "userId": "18419725263817022624"
     },
     "user_tz": -330
    },
    "id": "pa8RHi7FlR45",
    "outputId": "b6de8312-bb67-41ac-cf7f-42cd3e7c5ca2"
   },
   "outputs": [],
   "source": [
    "# Print area column from brics dataframe\n",
    "\n",
    "print(brics[\"area\"])"
   ]
  },
  {
   "cell_type": "code",
   "execution_count": null,
   "metadata": {
    "colab": {
     "base_uri": "https://localhost:8080/"
    },
    "executionInfo": {
     "elapsed": 93,
     "status": "ok",
     "timestamp": 1629121096674,
     "user": {
      "displayName": "Manjiri Sawant",
      "photoUrl": "https://lh3.googleusercontent.com/a-/AOh14Gg_gCWtWflMGGrHQCn9QlMZSxNVG4ndynt6ZMiyFA=s64",
      "userId": "18419725263817022624"
     },
     "user_tz": -330
    },
    "id": "jSotIaiBlZLb",
    "outputId": "9d4c0a07-f56e-47da-9047-b3f4436d2abb"
   },
   "outputs": [],
   "source": [
    "# Other way to get a single column from a dataframe - use dot\n",
    "\n",
    "brics.country"
   ]
  },
  {
   "cell_type": "code",
   "execution_count": null,
   "metadata": {
    "colab": {
     "base_uri": "https://localhost:8080/"
    },
    "executionInfo": {
     "elapsed": 82,
     "status": "ok",
     "timestamp": 1629121096674,
     "user": {
      "displayName": "Manjiri Sawant",
      "photoUrl": "https://lh3.googleusercontent.com/a-/AOh14Gg_gCWtWflMGGrHQCn9QlMZSxNVG4ndynt6ZMiyFA=s64",
      "userId": "18419725263817022624"
     },
     "user_tz": -330
    },
    "id": "EVMd2VsQlb08",
    "outputId": "39c9c3de-03fa-491f-85c7-c5538cd80827"
   },
   "outputs": [],
   "source": [
    "# Print code column from the dataframe using dot\n",
    "\n",
    "brics.code"
   ]
  },
  {
   "cell_type": "code",
   "execution_count": null,
   "metadata": {
    "colab": {
     "base_uri": "https://localhost:8080/",
     "height": 206
    },
    "executionInfo": {
     "elapsed": 73,
     "status": "ok",
     "timestamp": 1629121096674,
     "user": {
      "displayName": "Manjiri Sawant",
      "photoUrl": "https://lh3.googleusercontent.com/a-/AOh14Gg_gCWtWflMGGrHQCn9QlMZSxNVG4ndynt6ZMiyFA=s64",
      "userId": "18419725263817022624"
     },
     "user_tz": -330
    },
    "id": "OG15_splnOc3",
    "outputId": "a5b1a97d-6065-4d47-e00c-1f8ebee8aa77"
   },
   "outputs": [],
   "source": [
    "# Pritning multiple columns\n",
    "\n",
    "brics[['country', 'capital']]"
   ]
  },
  {
   "cell_type": "code",
   "execution_count": null,
   "metadata": {
    "colab": {
     "base_uri": "https://localhost:8080/",
     "height": 206
    },
    "executionInfo": {
     "elapsed": 69,
     "status": "ok",
     "timestamp": 1629121096674,
     "user": {
      "displayName": "Manjiri Sawant",
      "photoUrl": "https://lh3.googleusercontent.com/a-/AOh14Gg_gCWtWflMGGrHQCn9QlMZSxNVG4ndynt6ZMiyFA=s64",
      "userId": "18419725263817022624"
     },
     "user_tz": -330
    },
    "id": "md4Bik8Nngt4",
    "outputId": "64c51d99-7b00-4c13-8279-6fdba2b3550d"
   },
   "outputs": [],
   "source": [
    "# Print country, capital and population\n",
    "\n",
    "brics[['country','capital','population']]"
   ]
  },
  {
   "cell_type": "markdown",
   "metadata": {},
   "source": [
    "* It is not advisable to use dot everywhere to print column.\n",
    "* Using square brackets to print one column is also correct way."
   ]
  },
  {
   "cell_type": "code",
   "execution_count": null,
   "metadata": {
    "colab": {
     "base_uri": "https://localhost:8080/",
     "height": 237
    },
    "executionInfo": {
     "elapsed": 65,
     "status": "ok",
     "timestamp": 1629121096675,
     "user": {
      "displayName": "Manjiri Sawant",
      "photoUrl": "https://lh3.googleusercontent.com/a-/AOh14Gg_gCWtWflMGGrHQCn9QlMZSxNVG4ndynt6ZMiyFA=s64",
      "userId": "18419725263817022624"
     },
     "user_tz": -330
    },
    "id": "FRN-F8fOinLy",
    "outputId": "53445f58-f880-486f-d38a-9c57f2a3d70f"
   },
   "outputs": [],
   "source": [
    "# use col 0 as index. \n",
    "\n",
    "brics = pd.read_csv(\"brics.csv\",index_col=0)\n",
    "brics"
   ]
  },
  {
   "cell_type": "markdown",
   "metadata": {},
   "source": [
    "* Col 0 as index will remove the 1st column containing the indes or sl.no. from the above output.\n",
    "* And make the 1st column from actual daata as the index."
   ]
  },
  {
   "cell_type": "markdown",
   "metadata": {
    "id": "bFxqZ10Qobwo"
   },
   "source": [
    "## Transforming the dataframe"
   ]
  },
  {
   "cell_type": "code",
   "execution_count": null,
   "metadata": {
    "colab": {
     "base_uri": "https://localhost:8080/",
     "height": 237
    },
    "executionInfo": {
     "elapsed": 1078,
     "status": "ok",
     "timestamp": 1629121097691,
     "user": {
      "displayName": "Manjiri Sawant",
      "photoUrl": "https://lh3.googleusercontent.com/a-/AOh14Gg_gCWtWflMGGrHQCn9QlMZSxNVG4ndynt6ZMiyFA=s64",
      "userId": "18419725263817022624"
     },
     "user_tz": -330
    },
    "id": "zDhluUfdoZPr",
    "outputId": "0d3d9f44-f7c9-4c09-9af2-0f660e9e0fb0"
   },
   "outputs": [],
   "source": [
    "#Adding a new column to the existing Data Frame\n",
    "\n",
    "brics[\"on_earth\"] = [True, True, True, True, True]    \n",
    "brics"
   ]
  },
  {
   "cell_type": "code",
   "execution_count": null,
   "metadata": {
    "colab": {
     "base_uri": "https://localhost:8080/",
     "height": 237
    },
    "executionInfo": {
     "elapsed": 165,
     "status": "ok",
     "timestamp": 1629121097691,
     "user": {
      "displayName": "Manjiri Sawant",
      "photoUrl": "https://lh3.googleusercontent.com/a-/AOh14Gg_gCWtWflMGGrHQCn9QlMZSxNVG4ndynt6ZMiyFA=s64",
      "userId": "18419725263817022624"
     },
     "user_tz": -330
    },
    "id": "yd4BFaWQoiAe",
    "outputId": "1b415b94-51b8-4ff9-f390-7b0497d22fba"
   },
   "outputs": [],
   "source": [
    "# adding a calculated column\n",
    "\n",
    "brics[\"density\"] = brics[\"population\"] / brics[\"area\"] * 1000000   # per km sq.\n",
    "brics"
   ]
  },
  {
   "cell_type": "markdown",
   "metadata": {
    "id": "R1bkQH7Zo82g"
   },
   "source": [
    "Removing the additional decimal points or setting the precision can be done on the entire dataframe."
   ]
  },
  {
   "cell_type": "code",
   "execution_count": null,
   "metadata": {
    "colab": {
     "base_uri": "https://localhost:8080/",
     "height": 169
    },
    "executionInfo": {
     "elapsed": 164,
     "status": "ok",
     "timestamp": 1629121097692,
     "user": {
      "displayName": "Manjiri Sawant",
      "photoUrl": "https://lh3.googleusercontent.com/a-/AOh14Gg_gCWtWflMGGrHQCn9QlMZSxNVG4ndynt6ZMiyFA=s64",
      "userId": "18419725263817022624"
     },
     "user_tz": -330
    },
    "id": "CZalZzBeo6bh",
    "outputId": "592ae063-a2e4-45cc-e649-f21ce64d7b11"
   },
   "outputs": [],
   "source": [
    "brics.style.set_precision(2)  # Upto 2 decimal points for all float columns in the dataframe. "
   ]
  },
  {
   "cell_type": "markdown",
   "metadata": {},
   "source": [
    "* This will not change the original dataframe i.e. the original dataframe will still have multiple digits after decimals."
   ]
  },
  {
   "cell_type": "code",
   "execution_count": null,
   "metadata": {
    "colab": {
     "base_uri": "https://localhost:8080/"
    },
    "executionInfo": {
     "elapsed": 163,
     "status": "ok",
     "timestamp": 1629121097692,
     "user": {
      "displayName": "Manjiri Sawant",
      "photoUrl": "https://lh3.googleusercontent.com/a-/AOh14Gg_gCWtWflMGGrHQCn9QlMZSxNVG4ndynt6ZMiyFA=s64",
      "userId": "18419725263817022624"
     },
     "user_tz": -330
    },
    "id": "x55aPPdtpQ8D",
    "outputId": "cc7a43f6-ca43-46ca-c524-666db710b0e1"
   },
   "outputs": [],
   "source": [
    "brics[\"density\"].round(2) # Rounding of individual column to fixed decimal points."
   ]
  },
  {
   "cell_type": "markdown",
   "metadata": {
    "id": "lbNZ88gtpdXR"
   },
   "source": [
    "### Fetching data using indices and location functions (.loc and .iloc)\n",
    "\n",
    "To Note:\n",
    "1. .loc is used with the actual value/label of the index\n",
    "2. .iloc is used with the index position/reference - which are numbers (0, 1, 2, 3, 4......)"
   ]
  },
  {
   "cell_type": "code",
   "execution_count": null,
   "metadata": {
    "colab": {
     "base_uri": "https://localhost:8080/"
    },
    "executionInfo": {
     "elapsed": 153,
     "status": "ok",
     "timestamp": 1629121097693,
     "user": {
      "displayName": "Manjiri Sawant",
      "photoUrl": "https://lh3.googleusercontent.com/a-/AOh14Gg_gCWtWflMGGrHQCn9QlMZSxNVG4ndynt6ZMiyFA=s64",
      "userId": "18419725263817022624"
     },
     "user_tz": -330
    },
    "id": "PhY6_TOfpm2W",
    "outputId": "12fdfb80-1e48-47d5-8638-6aefde039836"
   },
   "outputs": [],
   "source": [
    "brics"
   ]
  },
  {
   "cell_type": "markdown",
   "metadata": {},
   "source": [
    "* Notice that the indices are BR, RU, IN, CH and SA. However, their position(numerical index) are 0,1,2,3, and 4"
   ]
  },
  {
   "cell_type": "code",
   "execution_count": null,
   "metadata": {
    "colab": {
     "base_uri": "https://localhost:8080/"
    },
    "executionInfo": {
     "elapsed": 145,
     "status": "ok",
     "timestamp": 1629121097693,
     "user": {
      "displayName": "Manjiri Sawant",
      "photoUrl": "https://lh3.googleusercontent.com/a-/AOh14Gg_gCWtWflMGGrHQCn9QlMZSxNVG4ndynt6ZMiyFA=s64",
      "userId": "18419725263817022624"
     },
     "user_tz": -330
    },
    "id": "m_9C_Y9Zpw6I",
    "outputId": "6637f513-4604-48e1-8c84-7687c62e0fc5"
   },
   "outputs": [],
   "source": [
    "brics.loc[\"SA\"]   # .loc is used with actual value of the index. "
   ]
  },
  {
   "cell_type": "markdown",
   "metadata": {},
   "source": [
    "* The value mentioned in the argument must be there in the dataframe's index list."
   ]
  },
  {
   "cell_type": "code",
   "execution_count": null,
   "metadata": {
    "colab": {
     "base_uri": "https://localhost:8080/"
    },
    "executionInfo": {
     "elapsed": 138,
     "status": "ok",
     "timestamp": 1629121097694,
     "user": {
      "displayName": "Manjiri Sawant",
      "photoUrl": "https://lh3.googleusercontent.com/a-/AOh14Gg_gCWtWflMGGrHQCn9QlMZSxNVG4ndynt6ZMiyFA=s64",
      "userId": "18419725263817022624"
     },
     "user_tz": -330
    },
    "id": "1VsuDBIbqLDL",
    "outputId": "535f7b86-cafc-439a-82c3-9b777f7d69b3"
   },
   "outputs": [],
   "source": [
    "brics.iloc[4]  # .loc is used when we are giving the index reference as number, not the actual value of the index."
   ]
  },
  {
   "cell_type": "markdown",
   "metadata": {},
   "source": [
    "##### Use .loc to print the values from all columns for IN."
   ]
  },
  {
   "cell_type": "code",
   "execution_count": null,
   "metadata": {
    "colab": {
     "base_uri": "https://localhost:8080/"
    },
    "executionInfo": {
     "elapsed": 129,
     "status": "ok",
     "timestamp": 1629121097694,
     "user": {
      "displayName": "Manjiri Sawant",
      "photoUrl": "https://lh3.googleusercontent.com/a-/AOh14Gg_gCWtWflMGGrHQCn9QlMZSxNVG4ndynt6ZMiyFA=s64",
      "userId": "18419725263817022624"
     },
     "user_tz": -330
    },
    "id": "bWSAd80zrGxU",
    "outputId": "ad0df698-5784-45c2-b4b0-2a100e61a71b"
   },
   "outputs": [],
   "source": [
    "brics.loc['IN']"
   ]
  },
  {
   "cell_type": "markdown",
   "metadata": {},
   "source": [
    "##### Use .iloc to print the values from all columns from 3rd row (index number will be 1 less than the row number)."
   ]
  },
  {
   "cell_type": "code",
   "execution_count": null,
   "metadata": {
    "colab": {
     "base_uri": "https://localhost:8080/"
    },
    "executionInfo": {
     "elapsed": 119,
     "status": "ok",
     "timestamp": 1629121097694,
     "user": {
      "displayName": "Manjiri Sawant",
      "photoUrl": "https://lh3.googleusercontent.com/a-/AOh14Gg_gCWtWflMGGrHQCn9QlMZSxNVG4ndynt6ZMiyFA=s64",
      "userId": "18419725263817022624"
     },
     "user_tz": -330
    },
    "id": "gSXedN9TrOnq",
    "outputId": "50d0b818-347d-4389-91ba-55a6be723fea"
   },
   "outputs": [],
   "source": [
    "brics.iloc[2]"
   ]
  },
  {
   "cell_type": "markdown",
   "metadata": {
    "id": "DkuXlWrUrmoW"
   },
   "source": [
    "## Adding rows in the dataframe\n",
    "\n",
    "**append()** is used to add records in a dataframe or even in lists."
   ]
  },
  {
   "cell_type": "code",
   "execution_count": null,
   "metadata": {
    "colab": {
     "base_uri": "https://localhost:8080/",
     "height": 237
    },
    "executionInfo": {
     "elapsed": 113,
     "status": "ok",
     "timestamp": 1629121097695,
     "user": {
      "displayName": "Manjiri Sawant",
      "photoUrl": "https://lh3.googleusercontent.com/a-/AOh14Gg_gCWtWflMGGrHQCn9QlMZSxNVG4ndynt6ZMiyFA=s64",
      "userId": "18419725263817022624"
     },
     "user_tz": -330
    },
    "id": "XsDwPxfvrw3s",
    "outputId": "7f91f5e8-94ba-46c4-a7d7-08cb1de66dc5"
   },
   "outputs": [],
   "source": [
    "#adding a new ROW using append\n",
    "newrow = {'code':'WK', 'country':'Wakanda', 'population':5,'area':1000000,'capital':'Wakanda City','on_earth':False,'density':5}\n",
    "\n",
    "\n",
    "brics1 = brics.append(newrow,ignore_index= True)   # Ignoring the existing index.\n",
    "# Ignoring the existing index will result into new dataframe index 0,1,2,....\n",
    "\n",
    "\n",
    "brics1   # append will not result into changing the actual dataframe. brics will still be the same."
   ]
  },
  {
   "cell_type": "markdown",
   "metadata": {},
   "source": [
    "* There is **NaN** for code in other rows, Because the previous 'code' was not a part of data table. It was an index.\n",
    "\n",
    "* With 'code' in 'newrow', we are adding a new column called 'code'.\n",
    " \n",
    "* ignore_index=False will result into error because 'newrow' is a dictionary and appending a dictionary into a dataframe will not work if we do not ignore the index."
   ]
  },
  {
   "cell_type": "code",
   "execution_count": null,
   "metadata": {
    "colab": {
     "base_uri": "https://localhost:8080/",
     "height": 269
    },
    "executionInfo": {
     "elapsed": 110,
     "status": "ok",
     "timestamp": 1629121097695,
     "user": {
      "displayName": "Manjiri Sawant",
      "photoUrl": "https://lh3.googleusercontent.com/a-/AOh14Gg_gCWtWflMGGrHQCn9QlMZSxNVG4ndynt6ZMiyFA=s64",
      "userId": "18419725263817022624"
     },
     "user_tz": -330
    },
    "id": "0R3KSrJ9srd8",
    "outputId": "1c82df3d-6207-4f38-a9e8-140fc5ee17db"
   },
   "outputs": [],
   "source": [
    "#Adding a new row using .loc\n",
    "\n",
    "brics.loc['WK'] = ['Wakanda', 5, 1000000, 'Wakanda City', False, 5]   \n",
    "# Sequence is very important. Data types may get changed due to wrong sequence.\n",
    "\n",
    "brics"
   ]
  },
  {
   "cell_type": "markdown",
   "metadata": {},
   "source": [
    "##### Add a new row in the dataframe using .loc any other country with some values in all columns."
   ]
  },
  {
   "cell_type": "code",
   "execution_count": null,
   "metadata": {
    "executionInfo": {
     "elapsed": 106,
     "status": "ok",
     "timestamp": 1629121097696,
     "user": {
      "displayName": "Manjiri Sawant",
      "photoUrl": "https://lh3.googleusercontent.com/a-/AOh14Gg_gCWtWflMGGrHQCn9QlMZSxNVG4ndynt6ZMiyFA=s64",
      "userId": "18419725263817022624"
     },
     "user_tz": -330
    },
    "id": "iv1xQ3jms_xa"
   },
   "outputs": [],
   "source": [
    "brics.loc['GD'] = ['Gondor', 3, 1855000 ,'Minas Tirith',False,2.214022]"
   ]
  },
  {
   "cell_type": "code",
   "execution_count": null,
   "metadata": {
    "colab": {
     "base_uri": "https://localhost:8080/",
     "height": 35
    },
    "executionInfo": {
     "elapsed": 105,
     "status": "ok",
     "timestamp": 1629121097696,
     "user": {
      "displayName": "Manjiri Sawant",
      "photoUrl": "https://lh3.googleusercontent.com/a-/AOh14Gg_gCWtWflMGGrHQCn9QlMZSxNVG4ndynt6ZMiyFA=s64",
      "userId": "18419725263817022624"
     },
     "user_tz": -330
    },
    "id": "X1F6KqrPtSJr",
    "outputId": "f517e032-b1cf-47bd-97cc-04e2bd923645"
   },
   "outputs": [],
   "source": [
    "# Fetching the value in 2-D way. In Excel, we have cells for that, Ex- A2 means column A and row 2.\n",
    "# All of the below codes will give the same output."
   ]
  },
  {
   "cell_type": "code",
   "execution_count": null,
   "metadata": {},
   "outputs": [],
   "source": [
    "brics.loc[\"IN\",\"capital\"]"
   ]
  },
  {
   "cell_type": "code",
   "execution_count": null,
   "metadata": {
    "colab": {
     "base_uri": "https://localhost:8080/",
     "height": 35
    },
    "executionInfo": {
     "elapsed": 105,
     "status": "ok",
     "timestamp": 1629121097697,
     "user": {
      "displayName": "Manjiri Sawant",
      "photoUrl": "https://lh3.googleusercontent.com/a-/AOh14Gg_gCWtWflMGGrHQCn9QlMZSxNVG4ndynt6ZMiyFA=s64",
      "userId": "18419725263817022624"
     },
     "user_tz": -330
    },
    "id": "bS5p_Oezvo3_",
    "outputId": "8bab4b28-2fc6-4f41-9b20-9735907679e8"
   },
   "outputs": [],
   "source": [
    "brics[\"capital\"].loc[\"IN\"]"
   ]
  },
  {
   "cell_type": "code",
   "execution_count": null,
   "metadata": {
    "colab": {
     "base_uri": "https://localhost:8080/",
     "height": 35
    },
    "executionInfo": {
     "elapsed": 103,
     "status": "ok",
     "timestamp": 1629121097697,
     "user": {
      "displayName": "Manjiri Sawant",
      "photoUrl": "https://lh3.googleusercontent.com/a-/AOh14Gg_gCWtWflMGGrHQCn9QlMZSxNVG4ndynt6ZMiyFA=s64",
      "userId": "18419725263817022624"
     },
     "user_tz": -330
    },
    "id": "yqc1eJ1AvpD2",
    "outputId": "63b3e815-b630-476f-e493-a451527748e2"
   },
   "outputs": [],
   "source": [
    "brics.loc[\"IN\"]['capital']"
   ]
  },
  {
   "cell_type": "markdown",
   "metadata": {
    "id": "JytdTcHUtqt7"
   },
   "source": [
    "##### Deleting rows and columns from a dataframe using drop() function."
   ]
  },
  {
   "cell_type": "code",
   "execution_count": null,
   "metadata": {
    "colab": {
     "base_uri": "https://localhost:8080/",
     "height": 300
    },
    "executionInfo": {
     "elapsed": 101,
     "status": "ok",
     "timestamp": 1629121097697,
     "user": {
      "displayName": "Manjiri Sawant",
      "photoUrl": "https://lh3.googleusercontent.com/a-/AOh14Gg_gCWtWflMGGrHQCn9QlMZSxNVG4ndynt6ZMiyFA=s64",
      "userId": "18419725263817022624"
     },
     "user_tz": -330
    },
    "id": "w_DnicT1tuhz",
    "outputId": "70c06ef5-9194-454a-8f98-2903baf5a004"
   },
   "outputs": [],
   "source": [
    "# create a new dataframe so that brics is not affected.\n",
    "\n",
    "brics1 = brics\n",
    "brics1"
   ]
  },
  {
   "cell_type": "code",
   "execution_count": null,
   "metadata": {
    "colab": {
     "base_uri": "https://localhost:8080/",
     "height": 300
    },
    "executionInfo": {
     "elapsed": 100,
     "status": "ok",
     "timestamp": 1629121097698,
     "user": {
      "displayName": "Manjiri Sawant",
      "photoUrl": "https://lh3.googleusercontent.com/a-/AOh14Gg_gCWtWflMGGrHQCn9QlMZSxNVG4ndynt6ZMiyFA=s64",
      "userId": "18419725263817022624"
     },
     "user_tz": -330
    },
    "id": "LbEvEqpJt84R",
    "outputId": "1c754843-cde5-4073-9e2b-f07469ecc78f"
   },
   "outputs": [],
   "source": [
    "brics1.drop(['area'], axis=1)  # axis = 0 by default for rows. Axis = 1 for column.\n",
    "\n",
    "# For multiple columns, mention the columns separated by comma. Ex. df.drop(['name','max'], axis=1)"
   ]
  },
  {
   "cell_type": "markdown",
   "metadata": {},
   "source": [
    "##### Deleting area and density columns from brics1 dataframe."
   ]
  },
  {
   "cell_type": "code",
   "execution_count": null,
   "metadata": {
    "colab": {
     "base_uri": "https://localhost:8080/",
     "height": 300
    },
    "executionInfo": {
     "elapsed": 98,
     "status": "ok",
     "timestamp": 1629121097698,
     "user": {
      "displayName": "Manjiri Sawant",
      "photoUrl": "https://lh3.googleusercontent.com/a-/AOh14Gg_gCWtWflMGGrHQCn9QlMZSxNVG4ndynt6ZMiyFA=s64",
      "userId": "18419725263817022624"
     },
     "user_tz": -330
    },
    "id": "rq6cFICqwLXt",
    "outputId": "8cc38f19-b739-431d-bbd4-ae9b3918c671"
   },
   "outputs": [],
   "source": [
    "brics1 = brics\n",
    "\n",
    "brics1.drop(['area','density'], axis = 1)"
   ]
  },
  {
   "cell_type": "markdown",
   "metadata": {},
   "source": [
    "##### Delete the record for Wakanda by using its index WK."
   ]
  },
  {
   "cell_type": "code",
   "execution_count": null,
   "metadata": {
    "colab": {
     "base_uri": "https://localhost:8080/",
     "height": 269
    },
    "executionInfo": {
     "elapsed": 96,
     "status": "ok",
     "timestamp": 1629121097699,
     "user": {
      "displayName": "Manjiri Sawant",
      "photoUrl": "https://lh3.googleusercontent.com/a-/AOh14Gg_gCWtWflMGGrHQCn9QlMZSxNVG4ndynt6ZMiyFA=s64",
      "userId": "18419725263817022624"
     },
     "user_tz": -330
    },
    "id": "XASmKR5iwj1Q",
    "outputId": "28f323d2-91b9-4a37-ce9a-84b1b6fa1ed5"
   },
   "outputs": [],
   "source": [
    "brics1.drop(['WK'], axis = 0)"
   ]
  },
  {
   "cell_type": "code",
   "execution_count": null,
   "metadata": {
    "colab": {
     "base_uri": "https://localhost:8080/",
     "height": 300
    },
    "executionInfo": {
     "elapsed": 94,
     "status": "ok",
     "timestamp": 1629121097699,
     "user": {
      "displayName": "Manjiri Sawant",
      "photoUrl": "https://lh3.googleusercontent.com/a-/AOh14Gg_gCWtWflMGGrHQCn9QlMZSxNVG4ndynt6ZMiyFA=s64",
      "userId": "18419725263817022624"
     },
     "user_tz": -330
    },
    "id": "1U4nfmQqytxo",
    "outputId": "ac39a7e6-350f-4269-a109-c8fdcb5b0839"
   },
   "outputs": [],
   "source": [
    "brics1 = brics\n",
    "\n",
    "# Another way to drop columns\n",
    "brics1.drop(columns=['area', 'density']) "
   ]
  },
  {
   "cell_type": "code",
   "execution_count": null,
   "metadata": {
    "colab": {
     "base_uri": "https://localhost:8080/",
     "height": 237
    },
    "executionInfo": {
     "elapsed": 94,
     "status": "ok",
     "timestamp": 1629121097700,
     "user": {
      "displayName": "Manjiri Sawant",
      "photoUrl": "https://lh3.googleusercontent.com/a-/AOh14Gg_gCWtWflMGGrHQCn9QlMZSxNVG4ndynt6ZMiyFA=s64",
      "userId": "18419725263817022624"
     },
     "user_tz": -330
    },
    "id": "j1lTvdC1zKdt",
    "outputId": "0808c14c-51bc-4ab3-b7ae-280fecc4d01d"
   },
   "outputs": [],
   "source": [
    "brics1 = brics\n",
    "\n",
    "# Drop rows by index\n",
    "\n",
    "brics1.drop(['IN', 'CH'])"
   ]
  },
  {
   "cell_type": "markdown",
   "metadata": {},
   "source": [
    "* The **shape function()** helps us to find the shape or size of an array or matrix. In Excel - A1:D10.  \n",
    "* shape[0] means we are working along the first dimension of an array.\n",
    "* If Y has n rows and m columns, then Y.shape is (n,m). So Y.shape[0] is n."
   ]
  },
  {
   "cell_type": "code",
   "execution_count": null,
   "metadata": {
    "colab": {
     "base_uri": "https://localhost:8080/"
    },
    "executionInfo": {
     "elapsed": 93,
     "status": "ok",
     "timestamp": 1629121097701,
     "user": {
      "displayName": "Manjiri Sawant",
      "photoUrl": "https://lh3.googleusercontent.com/a-/AOh14Gg_gCWtWflMGGrHQCn9QlMZSxNVG4ndynt6ZMiyFA=s64",
      "userId": "18419725263817022624"
     },
     "user_tz": -330
    },
    "id": "mvSbn1HAzvy7",
    "outputId": "861ec28b-fb39-4ee8-fb61-b3f7a848eb55"
   },
   "outputs": [],
   "source": [
    "for index in range(brics.shape[0]):    \n",
    "    countryName = brics.iloc[index,0]  # row - index, column - 0\n",
    "    cityName = brics.iloc[index, 3]  # row - index, column - 3\n",
    "    print('The Capital City of', countryName, 'is', cityName)"
   ]
  },
  {
   "cell_type": "code",
   "execution_count": null,
   "metadata": {
    "colab": {
     "base_uri": "https://localhost:8080/"
    },
    "executionInfo": {
     "elapsed": 84,
     "status": "ok",
     "timestamp": 1629121097702,
     "user": {
      "displayName": "Manjiri Sawant",
      "photoUrl": "https://lh3.googleusercontent.com/a-/AOh14Gg_gCWtWflMGGrHQCn9QlMZSxNVG4ndynt6ZMiyFA=s64",
      "userId": "18419725263817022624"
     },
     "user_tz": -330
    },
    "id": "XFuEnmT80BHw",
    "outputId": "d0f4aa5a-1c6c-4d3b-a4c8-fa4299c3a187"
   },
   "outputs": [],
   "source": [
    "#Another solution\n",
    "for index in range(brics.shape[0]):\n",
    "    print('The Capital City of', brics.iloc[index, 0], 'is', brics.iloc[index, 3])"
   ]
  },
  {
   "cell_type": "code",
   "execution_count": null,
   "metadata": {
    "colab": {
     "base_uri": "https://localhost:8080/"
    },
    "executionInfo": {
     "elapsed": 76,
     "status": "ok",
     "timestamp": 1629121097702,
     "user": {
      "displayName": "Manjiri Sawant",
      "photoUrl": "https://lh3.googleusercontent.com/a-/AOh14Gg_gCWtWflMGGrHQCn9QlMZSxNVG4ndynt6ZMiyFA=s64",
      "userId": "18419725263817022624"
     },
     "user_tz": -330
    },
    "id": "kbSEZ24X0HFD",
    "outputId": "9856b352-761f-40a3-bb35-9da9a7f15208"
   },
   "outputs": [],
   "source": [
    "#Another solution\n",
    "# iterrows() is a generator that iterates over the rows of the dataframe and returns the index of each row, \n",
    "# in addition to an object containing the row itself.\n",
    "\n",
    "for index, row in brics.iterrows():\n",
    "    print(\"The Capital City of\",row['country'],\"is\", row['capital'])"
   ]
  },
  {
   "cell_type": "markdown",
   "metadata": {},
   "source": [
    "## 2. Dataset is Used: cars.csv"
   ]
  },
  {
   "cell_type": "code",
   "execution_count": null,
   "metadata": {},
   "outputs": [],
   "source": [
    "# loading the dataset\n",
    "\n",
    "cars = pd.read_csv(\"cars.csv\")"
   ]
  },
  {
   "cell_type": "code",
   "execution_count": null,
   "metadata": {
    "colab": {
     "base_uri": "https://localhost:8080/",
     "height": 206
    },
    "executionInfo": {
     "elapsed": 164,
     "status": "ok",
     "timestamp": 1629121126570,
     "user": {
      "displayName": "Manjiri Sawant",
      "photoUrl": "https://lh3.googleusercontent.com/a-/AOh14Gg_gCWtWflMGGrHQCn9QlMZSxNVG4ndynt6ZMiyFA=s64",
      "userId": "18419725263817022624"
     },
     "user_tz": -330
    },
    "id": "syBt3UvB4UaD",
    "outputId": "1c9dc0b9-595c-4659-b1a5-1c9a8e6021a1"
   },
   "outputs": [],
   "source": [
    "# Print top 5 rows from the data, without any sorting or filter.\n",
    "cars.head()"
   ]
  },
  {
   "cell_type": "markdown",
   "metadata": {
    "id": "AQpwMXhD5c9t"
   },
   "source": [
    "* there is an unnamed column in the above output. It is because the column name is not given in the orignal dataset for the 1st  column.Corrections will be for that in sometime."
   ]
  },
  {
   "cell_type": "code",
   "execution_count": null,
   "metadata": {
    "colab": {
     "base_uri": "https://localhost:8080/",
     "height": 269
    },
    "executionInfo": {
     "elapsed": 161,
     "status": "ok",
     "timestamp": 1629121126571,
     "user": {
      "displayName": "Manjiri Sawant",
      "photoUrl": "https://lh3.googleusercontent.com/a-/AOh14Gg_gCWtWflMGGrHQCn9QlMZSxNVG4ndynt6ZMiyFA=s64",
      "userId": "18419725263817022624"
     },
     "user_tz": -330
    },
    "id": "Gx9AEfJh4k7k",
    "outputId": "ab176d60-9ea2-44d2-a7c4-c109f0f05433"
   },
   "outputs": [],
   "source": [
    "# Print top 7 rows from the data\n",
    "# To print n number of rows, enter the value of n in the head() as an argument.\n",
    "\n",
    "cars.head(7)"
   ]
  },
  {
   "cell_type": "code",
   "execution_count": null,
   "metadata": {
    "colab": {
     "base_uri": "https://localhost:8080/",
     "height": 206
    },
    "executionInfo": {
     "elapsed": 160,
     "status": "ok",
     "timestamp": 1629121126571,
     "user": {
      "displayName": "Manjiri Sawant",
      "photoUrl": "https://lh3.googleusercontent.com/a-/AOh14Gg_gCWtWflMGGrHQCn9QlMZSxNVG4ndynt6ZMiyFA=s64",
      "userId": "18419725263817022624"
     },
     "user_tz": -330
    },
    "id": "Mz-7fSqT4sTL",
    "outputId": "c6ee7370-cbf1-45e6-bd08-a789d46b3fee"
   },
   "outputs": [],
   "source": [
    "# For bottom 5 rows in the dataframe\n",
    "\n",
    "cars.tail()  "
   ]
  },
  {
   "cell_type": "code",
   "execution_count": null,
   "metadata": {
    "colab": {
     "base_uri": "https://localhost:8080/",
     "height": 269
    },
    "executionInfo": {
     "elapsed": 167,
     "status": "ok",
     "timestamp": 1629121126580,
     "user": {
      "displayName": "Manjiri Sawant",
      "photoUrl": "https://lh3.googleusercontent.com/a-/AOh14Gg_gCWtWflMGGrHQCn9QlMZSxNVG4ndynt6ZMiyFA=s64",
      "userId": "18419725263817022624"
     },
     "user_tz": -330
    },
    "id": "vEkq9tcp5MnX",
    "outputId": "d6279393-a3af-49a4-e193-38b2e5214c08"
   },
   "outputs": [],
   "source": [
    "# Print last 10 rows from the dataframe\n",
    "\n",
    "cars.tail(10)"
   ]
  },
  {
   "cell_type": "code",
   "execution_count": null,
   "metadata": {
    "colab": {
     "base_uri": "https://localhost:8080/",
     "height": 486
    },
    "executionInfo": {
     "elapsed": 164,
     "status": "ok",
     "timestamp": 1629121126581,
     "user": {
      "displayName": "Manjiri Sawant",
      "photoUrl": "https://lh3.googleusercontent.com/a-/AOh14Gg_gCWtWflMGGrHQCn9QlMZSxNVG4ndynt6ZMiyFA=s64",
      "userId": "18419725263817022624"
     },
     "user_tz": -330
    },
    "id": "SLJFSRLj55Ud",
    "outputId": "29fd2328-1cb9-41ee-fddc-9db8dbdddcc4"
   },
   "outputs": [],
   "source": [
    "# Giving a name to the unnamed column\n",
    "\n",
    "print(cars)\n",
    "\n",
    "df1 = cars.rename( columns={'Unnamed: 0':'code'}, inplace=False ) \n",
    "cars.rename( columns={'Unnamed: 0':'code'}, inplace=True ) \n",
    "\n",
    "print(df1)\n",
    "print(cars)      # With False, there will be no change in cars dataframe."
   ]
  },
  {
   "cell_type": "markdown",
   "metadata": {},
   "source": [
    "* inplace argument decides if the changes should be made in the original dataframe or not.\n",
    "* inplace = True has been used to overwrite the existing dataframe. The default is False, if nothing mentioned.\n",
    "* When **inplace = True** , the data is modified in place, which means it will return nothing and the dataframe is now updated. \n",
    "* When **inplace = False** , which is the default,then the operation is performed and it returns a copy of the object. You then need to save it to something."
   ]
  },
  {
   "cell_type": "code",
   "execution_count": null,
   "metadata": {
    "colab": {
     "base_uri": "https://localhost:8080/"
    },
    "executionInfo": {
     "elapsed": 151,
     "status": "ok",
     "timestamp": 1629121126581,
     "user": {
      "displayName": "Manjiri Sawant",
      "photoUrl": "https://lh3.googleusercontent.com/a-/AOh14Gg_gCWtWflMGGrHQCn9QlMZSxNVG4ndynt6ZMiyFA=s64",
      "userId": "18419725263817022624"
     },
     "user_tz": -330
    },
    "id": "dRnTJ_yy6gb8",
    "outputId": "bc8bb13f-982f-4032-cb2b-3446582c9069"
   },
   "outputs": [],
   "source": [
    "print(cars['cars_per_cap'])  # without column name at the top. Prints data and detail"
   ]
  },
  {
   "cell_type": "code",
   "execution_count": null,
   "metadata": {
    "colab": {
     "base_uri": "https://localhost:8080/"
    },
    "executionInfo": {
     "elapsed": 144,
     "status": "ok",
     "timestamp": 1629121126582,
     "user": {
      "displayName": "Manjiri Sawant",
      "photoUrl": "https://lh3.googleusercontent.com/a-/AOh14Gg_gCWtWflMGGrHQCn9QlMZSxNVG4ndynt6ZMiyFA=s64",
      "userId": "18419725263817022624"
     },
     "user_tz": -330
    },
    "id": "apDmqs3r6iLR",
    "outputId": "2087face-8f65-402f-f22d-52f701a38d39"
   },
   "outputs": [],
   "source": [
    "print(cars[['cars_per_cap']])  # print the actual data"
   ]
  },
  {
   "cell_type": "code",
   "execution_count": null,
   "metadata": {
    "colab": {
     "base_uri": "https://localhost:8080/",
     "height": 269
    },
    "executionInfo": {
     "elapsed": 137,
     "status": "ok",
     "timestamp": 1629121126583,
     "user": {
      "displayName": "Manjiri Sawant",
      "photoUrl": "https://lh3.googleusercontent.com/a-/AOh14Gg_gCWtWflMGGrHQCn9QlMZSxNVG4ndynt6ZMiyFA=s64",
      "userId": "18419725263817022624"
     },
     "user_tz": -330
    },
    "id": "eYwRZRPC6oBU",
    "outputId": "0bf7b3ba-cb62-4bd2-b797-1c5ead130322"
   },
   "outputs": [],
   "source": [
    "# Read the data again and set the 1st column as the index column. Then, print the cars dataframe.\n",
    "\n",
    "df1 = pd.read_csv('cars.csv', index_col= 0)\n",
    "\n",
    "df1"
   ]
  },
  {
   "cell_type": "code",
   "execution_count": null,
   "metadata": {
    "colab": {
     "base_uri": "https://localhost:8080/"
    },
    "executionInfo": {
     "elapsed": 135,
     "status": "ok",
     "timestamp": 1629121126583,
     "user": {
      "displayName": "Manjiri Sawant",
      "photoUrl": "https://lh3.googleusercontent.com/a-/AOh14Gg_gCWtWflMGGrHQCn9QlMZSxNVG4ndynt6ZMiyFA=s64",
      "userId": "18419725263817022624"
     },
     "user_tz": -330
    },
    "id": "9Cu0htwU61qk",
    "outputId": "0df1ad2b-8495-4eac-95b9-e84511e9202f"
   },
   "outputs": [],
   "source": [
    "#Print the details of 'RU'\n",
    "\n",
    "df1.loc['RU']"
   ]
  },
  {
   "cell_type": "code",
   "execution_count": null,
   "metadata": {
    "colab": {
     "base_uri": "https://localhost:8080/",
     "height": 81
    },
    "executionInfo": {
     "elapsed": 127,
     "status": "ok",
     "timestamp": 1629121126584,
     "user": {
      "displayName": "Manjiri Sawant",
      "photoUrl": "https://lh3.googleusercontent.com/a-/AOh14Gg_gCWtWflMGGrHQCn9QlMZSxNVG4ndynt6ZMiyFA=s64",
      "userId": "18419725263817022624"
     },
     "user_tz": -330
    },
    "id": "wTdY73zf7MDX",
    "outputId": "63e2b57c-bce0-40ac-ce86-7b1f71f16fb5"
   },
   "outputs": [],
   "source": [
    "# To show the column name at the top.\n",
    "\n",
    "df1.loc[['RU']]"
   ]
  },
  {
   "cell_type": "markdown",
   "metadata": {},
   "source": [
    "##### Print all details for RU and AUS from cars dataframe."
   ]
  },
  {
   "cell_type": "code",
   "execution_count": null,
   "metadata": {
    "colab": {
     "base_uri": "https://localhost:8080/",
     "height": 112
    },
    "executionInfo": {
     "elapsed": 122,
     "status": "ok",
     "timestamp": 1629121126584,
     "user": {
      "displayName": "Manjiri Sawant",
      "photoUrl": "https://lh3.googleusercontent.com/a-/AOh14Gg_gCWtWflMGGrHQCn9QlMZSxNVG4ndynt6ZMiyFA=s64",
      "userId": "18419725263817022624"
     },
     "user_tz": -330
    },
    "id": "dOww2vHZ7aIh",
    "outputId": "8c777bc4-7179-4639-cee9-925ddf1684b7"
   },
   "outputs": [],
   "source": [
    "df1.loc[['RU','AUS']]"
   ]
  },
  {
   "cell_type": "markdown",
   "metadata": {},
   "source": [
    "##### Print the Cars Per Capita (cars_per_cap) for India (IN)."
   ]
  },
  {
   "cell_type": "code",
   "execution_count": null,
   "metadata": {
    "colab": {
     "base_uri": "https://localhost:8080/"
    },
    "executionInfo": {
     "elapsed": 119,
     "status": "ok",
     "timestamp": 1629121126585,
     "user": {
      "displayName": "Manjiri Sawant",
      "photoUrl": "https://lh3.googleusercontent.com/a-/AOh14Gg_gCWtWflMGGrHQCn9QlMZSxNVG4ndynt6ZMiyFA=s64",
      "userId": "18419725263817022624"
     },
     "user_tz": -330
    },
    "id": "54sE0emk76tQ",
    "outputId": "ceefb69e-2e3f-4d44-c43d-715ee0a47413"
   },
   "outputs": [],
   "source": [
    "df1['cars_per_cap'].loc['IN']"
   ]
  },
  {
   "cell_type": "markdown",
   "metadata": {},
   "source": [
    "#####  Print the Cars Per Capita (cars_per_cap) for India (IN) and Russia (RU)."
   ]
  },
  {
   "cell_type": "code",
   "execution_count": null,
   "metadata": {
    "colab": {
     "base_uri": "https://localhost:8080/",
     "height": 112
    },
    "executionInfo": {
     "elapsed": 109,
     "status": "ok",
     "timestamp": 1629121126585,
     "user": {
      "displayName": "Manjiri Sawant",
      "photoUrl": "https://lh3.googleusercontent.com/a-/AOh14Gg_gCWtWflMGGrHQCn9QlMZSxNVG4ndynt6ZMiyFA=s64",
      "userId": "18419725263817022624"
     },
     "user_tz": -330
    },
    "id": "ourcXs9g8Fcw",
    "outputId": "5e4e384b-7e5c-4697-96f2-c0014df49a69"
   },
   "outputs": [],
   "source": [
    "df1.loc[['IN','RU']][['cars_per_cap']]"
   ]
  },
  {
   "cell_type": "markdown",
   "metadata": {},
   "source": [
    "##### # Print the Cars Per Capita and Country name for India and Russia."
   ]
  },
  {
   "cell_type": "code",
   "execution_count": null,
   "metadata": {
    "colab": {
     "base_uri": "https://localhost:8080/",
     "height": 112
    },
    "executionInfo": {
     "elapsed": 107,
     "status": "ok",
     "timestamp": 1629121126585,
     "user": {
      "displayName": "Manjiri Sawant",
      "photoUrl": "https://lh3.googleusercontent.com/a-/AOh14Gg_gCWtWflMGGrHQCn9QlMZSxNVG4ndynt6ZMiyFA=s64",
      "userId": "18419725263817022624"
     },
     "user_tz": -330
    },
    "id": "WkPXQVtj8N9c",
    "outputId": "68ec7aed-8672-40f0-ddb6-f03a00c3b8a5"
   },
   "outputs": [],
   "source": [
    "df1.loc[[\"IN\",\"RU\"]][['cars_per_cap','country']]"
   ]
  },
  {
   "cell_type": "markdown",
   "metadata": {
    "id": "usgDvH-A8uX8"
   },
   "source": [
    "## Pandas Advanced and Matplotlib\n",
    "\n",
    "## 3. Dataset is Used: marks.csv "
   ]
  },
  {
   "cell_type": "code",
   "execution_count": null,
   "metadata": {
    "executionInfo": {
     "elapsed": 182,
     "status": "ok",
     "timestamp": 1629121144917,
     "user": {
      "displayName": "Manjiri Sawant",
      "photoUrl": "https://lh3.googleusercontent.com/a-/AOh14Gg_gCWtWflMGGrHQCn9QlMZSxNVG4ndynt6ZMiyFA=s64",
      "userId": "18419725263817022624"
     },
     "user_tz": -330
    },
    "id": "pLHnlQvE-zaX"
   },
   "outputs": [],
   "source": [
    "# Loading the dataset\n",
    "marks = pd.read_csv(\"marks.csv\") "
   ]
  },
  {
   "cell_type": "code",
   "execution_count": null,
   "metadata": {
    "colab": {
     "base_uri": "https://localhost:8080/"
    },
    "executionInfo": {
     "elapsed": 180,
     "status": "ok",
     "timestamp": 1629121144917,
     "user": {
      "displayName": "Manjiri Sawant",
      "photoUrl": "https://lh3.googleusercontent.com/a-/AOh14Gg_gCWtWflMGGrHQCn9QlMZSxNVG4ndynt6ZMiyFA=s64",
      "userId": "18419725263817022624"
     },
     "user_tz": -330
    },
    "id": "063LhsOW-mM2",
    "outputId": "56b98c4a-5220-463b-81c6-d417e46bd4f9"
   },
   "outputs": [],
   "source": [
    "# TO DO: Show the shape of the dataframe\n",
    "\n",
    "marks.shape"
   ]
  },
  {
   "cell_type": "code",
   "execution_count": null,
   "metadata": {
    "colab": {
     "base_uri": "https://localhost:8080/"
    },
    "executionInfo": {
     "elapsed": 168,
     "status": "ok",
     "timestamp": 1629121144917,
     "user": {
      "displayName": "Manjiri Sawant",
      "photoUrl": "https://lh3.googleusercontent.com/a-/AOh14Gg_gCWtWflMGGrHQCn9QlMZSxNVG4ndynt6ZMiyFA=s64",
      "userId": "18419725263817022624"
     },
     "user_tz": -330
    },
    "id": "1dHh6S1x--aV",
    "outputId": "a843c496-c71e-41bd-aefe-99805b54ac5e"
   },
   "outputs": [],
   "source": [
    "# Get the information and structure of the data with non-null value counts\n",
    "\n",
    "marks.info()"
   ]
  },
  {
   "cell_type": "code",
   "execution_count": null,
   "metadata": {
    "colab": {
     "base_uri": "https://localhost:8080/"
    },
    "executionInfo": {
     "elapsed": 160,
     "status": "ok",
     "timestamp": 1629121144918,
     "user": {
      "displayName": "Manjiri Sawant",
      "photoUrl": "https://lh3.googleusercontent.com/a-/AOh14Gg_gCWtWflMGGrHQCn9QlMZSxNVG4ndynt6ZMiyFA=s64",
      "userId": "18419725263817022624"
     },
     "user_tz": -330
    },
    "id": "67SH1sBt_FWI",
    "outputId": "ad5dcac9-172b-4e9a-edd8-6cda13a690aa"
   },
   "outputs": [],
   "source": [
    "# Print datatypes of the each column\n",
    "\n",
    "marks.dtypes"
   ]
  },
  {
   "cell_type": "markdown",
   "metadata": {
    "id": "9wgofsQW_L1O"
   },
   "source": [
    "* The output is for the values in the column, not for the column iteself. A column of a dataframe is called a SERIES. The type of a series is Series."
   ]
  },
  {
   "cell_type": "code",
   "execution_count": null,
   "metadata": {
    "colab": {
     "base_uri": "https://localhost:8080/"
    },
    "executionInfo": {
     "elapsed": 152,
     "status": "ok",
     "timestamp": 1629121144918,
     "user": {
      "displayName": "Manjiri Sawant",
      "photoUrl": "https://lh3.googleusercontent.com/a-/AOh14Gg_gCWtWflMGGrHQCn9QlMZSxNVG4ndynt6ZMiyFA=s64",
      "userId": "18419725263817022624"
     },
     "user_tz": -330
    },
    "id": "dFFru5IF_YF9",
    "outputId": "986fe3a6-bdad-4a8e-a1e8-be89e99ee0b5"
   },
   "outputs": [],
   "source": [
    "print(type(marks))\n",
    "print(type(marks.English))  # Column's dtype is Series, the dtype of the values is Object.\n",
    "print(type(5))\n",
    "print(type(5.5))\n",
    "print(type(\"Python\"))\n",
    "print(type(True))"
   ]
  },
  {
   "cell_type": "markdown",
   "metadata": {
    "id": "A3z30RK8_hOm"
   },
   "source": [
    "#### display() Vs print()\n",
    "\n",
    "* display() is similar to print() with some difference. \n",
    "\n",
    "* Useful in advanced Python when we can 'display' images, but not 'print' them.\n",
    "\n",
    "* When working on a dataframe, prefer to use display()"
   ]
  },
  {
   "cell_type": "code",
   "execution_count": null,
   "metadata": {
    "colab": {
     "base_uri": "https://localhost:8080/",
     "height": 1000
    },
    "executionInfo": {
     "elapsed": 144,
     "status": "ok",
     "timestamp": 1629121144918,
     "user": {
      "displayName": "Manjiri Sawant",
      "photoUrl": "https://lh3.googleusercontent.com/a-/AOh14Gg_gCWtWflMGGrHQCn9QlMZSxNVG4ndynt6ZMiyFA=s64",
      "userId": "18419725263817022624"
     },
     "user_tz": -330
    },
    "id": "oQC_WN5u_25j",
    "outputId": "bb88c3a7-419a-4147-caa4-4a8cabf0f090"
   },
   "outputs": [],
   "source": [
    "# Using display() \n",
    "display(marks) "
   ]
  },
  {
   "cell_type": "markdown",
   "metadata": {
    "id": "_opyZB_KAYNq"
   },
   "source": [
    "### Using range and multiple values in .loc and .iloc\n"
   ]
  },
  {
   "cell_type": "markdown",
   "metadata": {
    "id": "Ma7PYz6xAjHZ"
   },
   "source": [
    "* There is a difference between = and == ."
   ]
  },
  {
   "cell_type": "code",
   "execution_count": null,
   "metadata": {
    "colab": {
     "base_uri": "https://localhost:8080/"
    },
    "executionInfo": {
     "elapsed": 137,
     "status": "ok",
     "timestamp": 1629121144919,
     "user": {
      "displayName": "Manjiri Sawant",
      "photoUrl": "https://lh3.googleusercontent.com/a-/AOh14Gg_gCWtWflMGGrHQCn9QlMZSxNVG4ndynt6ZMiyFA=s64",
      "userId": "18419725263817022624"
     },
     "user_tz": -330
    },
    "id": "zd9b4YmqAo6v",
    "outputId": "89a4223a-b6c3-48f1-e560-502ee23a58cc"
   },
   "outputs": [],
   "source": [
    "num = 5 # Assignment. No output of assignment operator. \n",
    "num\n",
    "\n",
    "num == 6 # Comparison/equality. Output is either True or False"
   ]
  },
  {
   "cell_type": "markdown",
   "metadata": {
    "id": "Qd-H6zZyA6Ua"
   },
   "source": [
    "### Using different logical operator to explore or fetch certain details from a large dataset."
   ]
  },
  {
   "cell_type": "markdown",
   "metadata": {},
   "source": [
    "##### selecting marks for 'Ria'."
   ]
  },
  {
   "cell_type": "code",
   "execution_count": null,
   "metadata": {
    "colab": {
     "base_uri": "https://localhost:8080/",
     "height": 81
    },
    "executionInfo": {
     "elapsed": 132,
     "status": "ok",
     "timestamp": 1629121144919,
     "user": {
      "displayName": "Manjiri Sawant",
      "photoUrl": "https://lh3.googleusercontent.com/a-/AOh14Gg_gCWtWflMGGrHQCn9QlMZSxNVG4ndynt6ZMiyFA=s64",
      "userId": "18419725263817022624"
     },
     "user_tz": -330
    },
    "id": "Tp-ZrfSNA11_",
    "outputId": "217f2515-e224-40d2-c907-b743a62c3124"
   },
   "outputs": [],
   "source": [
    "display(marks.loc[(marks.Student_Name == 'Ria')])  # in case the index is not known for large datasets"
   ]
  },
  {
   "cell_type": "markdown",
   "metadata": {},
   "source": [
    "##### Print all records for 'David'."
   ]
  },
  {
   "cell_type": "code",
   "execution_count": null,
   "metadata": {
    "colab": {
     "base_uri": "https://localhost:8080/",
     "height": 81
    },
    "executionInfo": {
     "elapsed": 131,
     "status": "ok",
     "timestamp": 1629121144919,
     "user": {
      "displayName": "Manjiri Sawant",
      "photoUrl": "https://lh3.googleusercontent.com/a-/AOh14Gg_gCWtWflMGGrHQCn9QlMZSxNVG4ndynt6ZMiyFA=s64",
      "userId": "18419725263817022624"
     },
     "user_tz": -330
    },
    "id": "t8xPvQTcBDU5",
    "outputId": "aa457cff-91cb-463b-a905-df5655282a1b"
   },
   "outputs": [],
   "source": [
    "display(marks.loc[(marks.Student_Name == 'David')])"
   ]
  },
  {
   "cell_type": "markdown",
   "metadata": {},
   "source": [
    "##### Using OR operator to print details if the name is either 'Ria' OR 'David'."
   ]
  },
  {
   "cell_type": "code",
   "execution_count": null,
   "metadata": {
    "colab": {
     "base_uri": "https://localhost:8080/",
     "height": 112
    },
    "executionInfo": {
     "elapsed": 128,
     "status": "ok",
     "timestamp": 1629121144919,
     "user": {
      "displayName": "Manjiri Sawant",
      "photoUrl": "https://lh3.googleusercontent.com/a-/AOh14Gg_gCWtWflMGGrHQCn9QlMZSxNVG4ndynt6ZMiyFA=s64",
      "userId": "18419725263817022624"
     },
     "user_tz": -330
    },
    "id": "wT6QPzfOBMIH",
    "outputId": "ae7b65ba-52bb-447c-fc87-191fa5d4e883"
   },
   "outputs": [],
   "source": [
    "display(marks.loc[(marks.Student_Name == 'Ria') | (marks.Student_Name == 'David')])   "
   ]
  },
  {
   "cell_type": "markdown",
   "metadata": {},
   "source": [
    "##### Print all records is the Student IS is either S05 or S10."
   ]
  },
  {
   "cell_type": "code",
   "execution_count": null,
   "metadata": {
    "colab": {
     "base_uri": "https://localhost:8080/",
     "height": 112
    },
    "executionInfo": {
     "elapsed": 126,
     "status": "ok",
     "timestamp": 1629121144920,
     "user": {
      "displayName": "Manjiri Sawant",
      "photoUrl": "https://lh3.googleusercontent.com/a-/AOh14Gg_gCWtWflMGGrHQCn9QlMZSxNVG4ndynt6ZMiyFA=s64",
      "userId": "18419725263817022624"
     },
     "user_tz": -330
    },
    "id": "vCn_vYF2CC7n",
    "outputId": "c0b02d2f-11e5-40f7-9086-07f8e43f69bd"
   },
   "outputs": [],
   "source": [
    "display(marks.loc[(marks.Student_ID == 'S05')| (marks.Student_ID == 'S10')])"
   ]
  },
  {
   "cell_type": "markdown",
   "metadata": {},
   "source": [
    "##### Fetch all details where marks in English > 70 or marks in Maths."
   ]
  },
  {
   "cell_type": "code",
   "execution_count": null,
   "metadata": {
    "colab": {
     "base_uri": "https://localhost:8080/",
     "height": 363
    },
    "executionInfo": {
     "elapsed": 124,
     "status": "ok",
     "timestamp": 1629121144920,
     "user": {
      "displayName": "Manjiri Sawant",
      "photoUrl": "https://lh3.googleusercontent.com/a-/AOh14Gg_gCWtWflMGGrHQCn9QlMZSxNVG4ndynt6ZMiyFA=s64",
      "userId": "18419725263817022624"
     },
     "user_tz": -330
    },
    "id": "l7eOUNJpCMih",
    "outputId": "b8d76121-acff-425c-bb44-4ff4bb6c149e"
   },
   "outputs": [],
   "source": [
    " display(marks.loc[(marks.English > 70) | (marks.Maths > 70)])"
   ]
  },
  {
   "cell_type": "markdown",
   "metadata": {},
   "source": [
    "##### Fetch all details where marks in English > 70 AND marks in Maths > 70."
   ]
  },
  {
   "cell_type": "code",
   "execution_count": null,
   "metadata": {
    "colab": {
     "base_uri": "https://localhost:8080/",
     "height": 81
    },
    "executionInfo": {
     "elapsed": 124,
     "status": "ok",
     "timestamp": 1629121144921,
     "user": {
      "displayName": "Manjiri Sawant",
      "photoUrl": "https://lh3.googleusercontent.com/a-/AOh14Gg_gCWtWflMGGrHQCn9QlMZSxNVG4ndynt6ZMiyFA=s64",
      "userId": "18419725263817022624"
     },
     "user_tz": -330
    },
    "id": "NxLDv69OCbR5",
    "outputId": "aac45820-4334-4d37-d643-9e7a187f1af3"
   },
   "outputs": [],
   "source": [
    "# Using AND operator to combine two conditions. \n",
    "\n",
    "display(marks.loc[(marks.English > 70) & (marks.Maths > 70)])"
   ]
  },
  {
   "cell_type": "markdown",
   "metadata": {},
   "source": [
    "##### Fetch all details for all students except for Ria or the all students who are not Ria."
   ]
  },
  {
   "cell_type": "code",
   "execution_count": null,
   "metadata": {
    "colab": {
     "base_uri": "https://localhost:8080/",
     "height": 645
    },
    "executionInfo": {
     "elapsed": 122,
     "status": "ok",
     "timestamp": 1629121144921,
     "user": {
      "displayName": "Manjiri Sawant",
      "photoUrl": "https://lh3.googleusercontent.com/a-/AOh14Gg_gCWtWflMGGrHQCn9QlMZSxNVG4ndynt6ZMiyFA=s64",
      "userId": "18419725263817022624"
     },
     "user_tz": -330
    },
    "id": "cmmaAvFsCpfu",
    "outputId": "7069799c-c28f-40c2-e2ac-94c5edae7798"
   },
   "outputs": [],
   "source": [
    "# Using NOT function \n",
    " \n",
    "display(marks.loc[(marks.Student_Name != 'Ria')])"
   ]
  },
  {
   "cell_type": "code",
   "execution_count": null,
   "metadata": {
    "colab": {
     "base_uri": "https://localhost:8080/",
     "height": 707
    },
    "executionInfo": {
     "elapsed": 119,
     "status": "ok",
     "timestamp": 1629121144922,
     "user": {
      "displayName": "Manjiri Sawant",
      "photoUrl": "https://lh3.googleusercontent.com/a-/AOh14Gg_gCWtWflMGGrHQCn9QlMZSxNVG4ndynt6ZMiyFA=s64",
      "userId": "18419725263817022624"
     },
     "user_tz": -330
    },
    "id": "7VCU6WTeEABA",
    "outputId": "fb812f17-9e3e-4d4c-80c7-919e1f159662"
   },
   "outputs": [],
   "source": [
    "# Index column can be changed by giving the name of the column - unique and case-sensitive\n",
    "\n",
    "marks = pd.read_csv('marks.csv', index_col = 0)  # could have given the index no. of the columns (0,1..) as well.\n",
    "\n",
    "display(marks)"
   ]
  },
  {
   "cell_type": "markdown",
   "metadata": {
    "id": "h5d4wkymEMC5"
   },
   "source": [
    "Displaying range of indices using .loc and .iloc\n",
    "\n",
    "Note:\n",
    "1. In .loc, all value are included\n",
    "2. In .iloc, the upper range is excluded\n",
    "\n",
    "Execute the next codes to understand it better."
   ]
  },
  {
   "cell_type": "code",
   "execution_count": null,
   "metadata": {
    "colab": {
     "base_uri": "https://localhost:8080/",
     "height": 394
    },
    "executionInfo": {
     "elapsed": 118,
     "status": "ok",
     "timestamp": 1629121144922,
     "user": {
      "displayName": "Manjiri Sawant",
      "photoUrl": "https://lh3.googleusercontent.com/a-/AOh14Gg_gCWtWflMGGrHQCn9QlMZSxNVG4ndynt6ZMiyFA=s64",
      "userId": "18419725263817022624"
     },
     "user_tz": -330
    },
    "id": "CsudZNu4ELAM",
    "outputId": "a8e92d5f-b378-459d-ff1a-fec0740fe1e5"
   },
   "outputs": [],
   "source": [
    "display(marks.loc['S01':'S10']) # Range of values. Includes all values/labels."
   ]
  },
  {
   "cell_type": "markdown",
   "metadata": {},
   "source": [
    "* .loc is different than .iloc\n",
    "* .iloc is label-based. We need to SPECIFY the VALUE of the index. The values must be there in the index column.\n",
    "* iloc is integer index-based. So here, we have to specify rows and columns by their integer index.\n",
    "* iloc will not work if the indices are not integers."
   ]
  },
  {
   "cell_type": "code",
   "execution_count": null,
   "metadata": {
    "colab": {
     "base_uri": "https://localhost:8080/",
     "height": 394
    },
    "executionInfo": {
     "elapsed": 129,
     "status": "ok",
     "timestamp": 1629121144935,
     "user": {
      "displayName": "Manjiri Sawant",
      "photoUrl": "https://lh3.googleusercontent.com/a-/AOh14Gg_gCWtWflMGGrHQCn9QlMZSxNVG4ndynt6ZMiyFA=s64",
      "userId": "18419725263817022624"
     },
     "user_tz": -330
    },
    "id": "vpIY0XTRETUX",
    "outputId": "56fa76e2-05b6-4b22-9eaa-33ccf51f770a"
   },
   "outputs": [],
   "source": [
    "display(marks.iloc[0:10]) # IMPORTANT - Out of 11 indices, the last one will be excluded."
   ]
  },
  {
   "cell_type": "markdown",
   "metadata": {},
   "source": [
    "* Returns output of the indices without matching the value of incides entered and the value in the column."
   ]
  },
  {
   "cell_type": "code",
   "execution_count": null,
   "metadata": {
    "colab": {
     "base_uri": "https://localhost:8080/",
     "height": 112
    },
    "executionInfo": {
     "elapsed": 128,
     "status": "ok",
     "timestamp": 1629121144936,
     "user": {
      "displayName": "Manjiri Sawant",
      "photoUrl": "https://lh3.googleusercontent.com/a-/AOh14Gg_gCWtWflMGGrHQCn9QlMZSxNVG4ndynt6ZMiyFA=s64",
      "userId": "18419725263817022624"
     },
     "user_tz": -330
    },
    "id": "sPZdY78dE27E",
    "outputId": "aab46304-7e7f-4c1d-86f3-f0a5dce95391"
   },
   "outputs": [],
   "source": [
    "display(marks.iloc[[3]])    \n",
    "\n",
    "#display(marks.iloc[['S04']]) will result in 'Type Error' iloc will not work if the index is not integer."
   ]
  },
  {
   "cell_type": "code",
   "execution_count": null,
   "metadata": {
    "colab": {
     "base_uri": "https://localhost:8080/",
     "height": 112
    },
    "executionInfo": {
     "elapsed": 131,
     "status": "ok",
     "timestamp": 1629121144940,
     "user": {
      "displayName": "Manjiri Sawant",
      "photoUrl": "https://lh3.googleusercontent.com/a-/AOh14Gg_gCWtWflMGGrHQCn9QlMZSxNVG4ndynt6ZMiyFA=s64",
      "userId": "18419725263817022624"
     },
     "user_tz": -330
    },
    "id": "mShPCDKQFDlb",
    "outputId": "a0f3675a-0c04-4459-da68-4b1e337a1496"
   },
   "outputs": [],
   "source": [
    "# Correct the issue of the previous code cell and write the correct syntax here.\n",
    "\n",
    "display(marks.iloc[[3]])"
   ]
  },
  {
   "cell_type": "code",
   "execution_count": null,
   "metadata": {
    "colab": {
     "base_uri": "https://localhost:8080/",
     "height": 143
    },
    "executionInfo": {
     "elapsed": 132,
     "status": "ok",
     "timestamp": 1629121144942,
     "user": {
      "displayName": "Manjiri Sawant",
      "photoUrl": "https://lh3.googleusercontent.com/a-/AOh14Gg_gCWtWflMGGrHQCn9QlMZSxNVG4ndynt6ZMiyFA=s64",
      "userId": "18419725263817022624"
     },
     "user_tz": -330
    },
    "id": "utHUjEFPFO-d",
    "outputId": "3927ecb4-0207-4a58-e165-5acb363236fc",
    "scrolled": true
   },
   "outputs": [],
   "source": [
    "# Data of multiple and non-consecuitive indices\n",
    "# Selecting details of the 1st and 5th row\n",
    "\n",
    "display(marks.iloc[[0, 4]])"
   ]
  },
  {
   "cell_type": "markdown",
   "metadata": {},
   "source": [
    "##### Print the details from 0th, 5th and 8th rows, along with the details of indices 4th, 11th and 16th."
   ]
  },
  {
   "cell_type": "code",
   "execution_count": null,
   "metadata": {
    "colab": {
     "base_uri": "https://localhost:8080/",
     "height": 269
    },
    "executionInfo": {
     "elapsed": 132,
     "status": "ok",
     "timestamp": 1629121144943,
     "user": {
      "displayName": "Manjiri Sawant",
      "photoUrl": "https://lh3.googleusercontent.com/a-/AOh14Gg_gCWtWflMGGrHQCn9QlMZSxNVG4ndynt6ZMiyFA=s64",
      "userId": "18419725263817022624"
     },
     "user_tz": -330
    },
    "id": "lIYhaJd3FZFr",
    "outputId": "33782679-4dde-41ef-f7e3-3938a1a385e9"
   },
   "outputs": [],
   "source": [
    "display(marks.iloc[[0,5,8,4,11,16]])"
   ]
  },
  {
   "cell_type": "code",
   "execution_count": null,
   "metadata": {
    "colab": {
     "base_uri": "https://localhost:8080/",
     "height": 237
    },
    "executionInfo": {
     "elapsed": 131,
     "status": "ok",
     "timestamp": 1629121144943,
     "user": {
      "displayName": "Manjiri Sawant",
      "photoUrl": "https://lh3.googleusercontent.com/a-/AOh14Gg_gCWtWflMGGrHQCn9QlMZSxNVG4ndynt6ZMiyFA=s64",
      "userId": "18419725263817022624"
     },
     "user_tz": -330
    },
    "id": "QDNJQAwXF_nr",
    "outputId": "e94974f2-783f-4c20-f1c2-436d31482fe4"
   },
   "outputs": [],
   "source": [
    "# .loc can be used to fetch details from a range of index values in a sequence.\n",
    "\n",
    "display(marks.loc['S01':'S05'])   # Continuous series of the indices based on label."
   ]
  },
  {
   "cell_type": "code",
   "execution_count": null,
   "metadata": {
    "colab": {
     "base_uri": "https://localhost:8080/",
     "height": 707
    },
    "executionInfo": {
     "elapsed": 132,
     "status": "ok",
     "timestamp": 1629121144944,
     "user": {
      "displayName": "Manjiri Sawant",
      "photoUrl": "https://lh3.googleusercontent.com/a-/AOh14Gg_gCWtWflMGGrHQCn9QlMZSxNVG4ndynt6ZMiyFA=s64",
      "userId": "18419725263817022624"
     },
     "user_tz": -330
    },
    "id": "ha6Kjx4RGqXj",
    "outputId": "50334b3a-5f65-4b04-a8b5-aaad71ae2dc6"
   },
   "outputs": [],
   "source": [
    "display(marks.iloc[2:5]) # Prints all values from all columns for indices 2 ,3 & 4."
   ]
  },
  {
   "cell_type": "code",
   "execution_count": null,
   "metadata": {},
   "outputs": [],
   "source": [
    "display(marks.iloc[0:5]) # Prints all values from all columns for indices 0 to 5."
   ]
  },
  {
   "cell_type": "code",
   "execution_count": null,
   "metadata": {},
   "outputs": [],
   "source": [
    "display(marks.iloc[:5]) # Prints all values from all columns for indices 0 to 5."
   ]
  },
  {
   "cell_type": "code",
   "execution_count": null,
   "metadata": {},
   "outputs": [],
   "source": [
    "display(marks.iloc[15:20])  # Prints all values from all columns for indices 15 to 20."
   ]
  },
  {
   "cell_type": "code",
   "execution_count": null,
   "metadata": {},
   "outputs": [],
   "source": [
    "display(marks.iloc[15:]) # Prints all values from all columns for indices 15 till last."
   ]
  },
  {
   "cell_type": "code",
   "execution_count": null,
   "metadata": {},
   "outputs": [],
   "source": [
    "display(marks.iloc[15:100])  # Prints all values from all columns for indices 15 till last."
   ]
  },
  {
   "cell_type": "code",
   "execution_count": null,
   "metadata": {},
   "outputs": [],
   "source": [
    "display(marks.iloc[:]) # Prints all values from all columns for all indices."
   ]
  },
  {
   "cell_type": "markdown",
   "metadata": {
    "id": "yVER-gaRGWK1"
   },
   "source": [
    "## Data cleaning : Empty value treatment in dataframes"
   ]
  },
  {
   "cell_type": "markdown",
   "metadata": {},
   "source": [
    "##### Creating new dataframe to understand Data Cleaning"
   ]
  },
  {
   "cell_type": "code",
   "execution_count": null,
   "metadata": {
    "colab": {
     "base_uri": "https://localhost:8080/",
     "height": 206
    },
    "executionInfo": {
     "elapsed": 131,
     "status": "ok",
     "timestamp": 1629121144945,
     "user": {
      "displayName": "Manjiri Sawant",
      "photoUrl": "https://lh3.googleusercontent.com/a-/AOh14Gg_gCWtWflMGGrHQCn9QlMZSxNVG4ndynt6ZMiyFA=s64",
      "userId": "18419725263817022624"
     },
     "user_tz": -330
    },
    "id": "RexuuzmrIQW9",
    "outputId": "bb6e2e4a-62c6-4b1b-893d-1710fb390838"
   },
   "outputs": [],
   "source": [
    "temps = pd.DataFrame({\"sequence\":[1,2,3,4,5],\n",
    "          \"measurement_type\":['actual','actual','actual',None,'estimated'],  # With strings, it will become 'None'\n",
    "          \"temperature_f\":[67.24,84.56,91.61,None,49.64]   #With numbers, it will become 'NaN'\n",
    "         })\n",
    "temps"
   ]
  },
  {
   "cell_type": "markdown",
   "metadata": {
    "id": "wIyGKQ65IUig"
   },
   "source": [
    "* NaN belongs to the class float\n",
    "\n",
    "* None belongs to the class NoneType"
   ]
  },
  {
   "cell_type": "code",
   "execution_count": null,
   "metadata": {
    "colab": {
     "base_uri": "https://localhost:8080/",
     "height": 206
    },
    "executionInfo": {
     "elapsed": 131,
     "status": "ok",
     "timestamp": 1629121144945,
     "user": {
      "displayName": "Manjiri Sawant",
      "photoUrl": "https://lh3.googleusercontent.com/a-/AOh14Gg_gCWtWflMGGrHQCn9QlMZSxNVG4ndynt6ZMiyFA=s64",
      "userId": "18419725263817022624"
     },
     "user_tz": -330
    },
    "id": "WP5OMZu1ISBe",
    "outputId": "e532b7fd-8e82-48fb-b322-8ab40ed09238"
   },
   "outputs": [],
   "source": [
    "# To identify the null value. Return true if the value is null otherwise false\n",
    "temps.isna()            "
   ]
  },
  {
   "cell_type": "code",
   "execution_count": null,
   "metadata": {
    "colab": {
     "base_uri": "https://localhost:8080/"
    },
    "executionInfo": {
     "elapsed": 130,
     "status": "ok",
     "timestamp": 1629121144945,
     "user": {
      "displayName": "Manjiri Sawant",
      "photoUrl": "https://lh3.googleusercontent.com/a-/AOh14Gg_gCWtWflMGGrHQCn9QlMZSxNVG4ndynt6ZMiyFA=s64",
      "userId": "18419725263817022624"
     },
     "user_tz": -330
    },
    "id": "YFjPnljoIbvJ",
    "outputId": "e0c0fb20-2397-4187-9b22-ee1d20a8d6fe"
   },
   "outputs": [],
   "source": [
    "# Return the count of missing value from each column     \n",
    "temps.isna().sum()      "
   ]
  },
  {
   "cell_type": "code",
   "execution_count": null,
   "metadata": {
    "colab": {
     "base_uri": "https://localhost:8080/"
    },
    "executionInfo": {
     "elapsed": 117,
     "status": "ok",
     "timestamp": 1629121144946,
     "user": {
      "displayName": "Manjiri Sawant",
      "photoUrl": "https://lh3.googleusercontent.com/a-/AOh14Gg_gCWtWflMGGrHQCn9QlMZSxNVG4ndynt6ZMiyFA=s64",
      "userId": "18419725263817022624"
     },
     "user_tz": -330
    },
    "id": "UYa7m-5nIjFv",
    "outputId": "ef732608-1c08-4ca5-87fe-340790ec99cd"
   },
   "outputs": [],
   "source": [
    "# Total count of null from all columns\n",
    "temps.isna().sum().sum() "
   ]
  },
  {
   "cell_type": "code",
   "execution_count": null,
   "metadata": {
    "colab": {
     "base_uri": "https://localhost:8080/",
     "height": 175
    },
    "executionInfo": {
     "elapsed": 1039,
     "status": "ok",
     "timestamp": 1629121145876,
     "user": {
      "displayName": "Manjiri Sawant",
      "photoUrl": "https://lh3.googleusercontent.com/a-/AOh14Gg_gCWtWflMGGrHQCn9QlMZSxNVG4ndynt6ZMiyFA=s64",
      "userId": "18419725263817022624"
     },
     "user_tz": -330
    },
    "id": "Pmu26BuCIoi2",
    "outputId": "52385f1c-4b01-4b73-8d20-eb0424f33d85"
   },
   "outputs": [],
   "source": [
    "# Drop/delete the row containing missing values\n",
    "\n",
    "clean_temps = temps.dropna(how='any')  # how: {'any', 'all'}. Default 'any'\n",
    "display (clean_temps)\n",
    "\n",
    "# ‘any’ : If any NA values are present, drop that row or column.\n",
    "# ‘all’ : If all values are NA, drop that row or column.\n",
    "\n",
    "\n",
    "# in the output, index 3 is not there."
   ]
  },
  {
   "cell_type": "code",
   "execution_count": null,
   "metadata": {
    "colab": {
     "base_uri": "https://localhost:8080/",
     "height": 206
    },
    "executionInfo": {
     "elapsed": 95,
     "status": "ok",
     "timestamp": 1629121145878,
     "user": {
      "displayName": "Manjiri Sawant",
      "photoUrl": "https://lh3.googleusercontent.com/a-/AOh14Gg_gCWtWflMGGrHQCn9QlMZSxNVG4ndynt6ZMiyFA=s64",
      "userId": "18419725263817022624"
     },
     "user_tz": -330
    },
    "id": "yxUU2wULI4Zi",
    "outputId": "bc0bf408-f680-4a2d-edaf-e4549637c7dd"
   },
   "outputs": [],
   "source": [
    "clean_temps = temps.dropna(how='all')  # how: {'any', 'all'}. Default 'any'\n",
    "display (clean_temps)"
   ]
  },
  {
   "cell_type": "code",
   "execution_count": null,
   "metadata": {
    "colab": {
     "base_uri": "https://localhost:8080/",
     "height": 175
    },
    "executionInfo": {
     "elapsed": 95,
     "status": "ok",
     "timestamp": 1629121145880,
     "user": {
      "displayName": "Manjiri Sawant",
      "photoUrl": "https://lh3.googleusercontent.com/a-/AOh14Gg_gCWtWflMGGrHQCn9QlMZSxNVG4ndynt6ZMiyFA=s64",
      "userId": "18419725263817022624"
     },
     "user_tz": -330
    },
    "id": "PmjaoUwoJDbG",
    "outputId": "c2538eab-76e8-4692-8ae7-dfbb934f13cd"
   },
   "outputs": [],
   "source": [
    "# Drop the ROWS where at least one element is missing.\n",
    "temps.dropna()"
   ]
  },
  {
   "cell_type": "code",
   "execution_count": null,
   "metadata": {
    "colab": {
     "base_uri": "https://localhost:8080/",
     "height": 206
    },
    "executionInfo": {
     "elapsed": 94,
     "status": "ok",
     "timestamp": 1629121145880,
     "user": {
      "displayName": "Manjiri Sawant",
      "photoUrl": "https://lh3.googleusercontent.com/a-/AOh14Gg_gCWtWflMGGrHQCn9QlMZSxNVG4ndynt6ZMiyFA=s64",
      "userId": "18419725263817022624"
     },
     "user_tz": -330
    },
    "id": "Tvfk9j4JJGV_",
    "outputId": "78ebbf16-7134-4f51-b64d-34d0ecdb96ae"
   },
   "outputs": [],
   "source": [
    "# Drop COLUMNS where there are missing values.\n",
    "\n",
    "# Drop the columns where at least one element is missing.\n",
    "temps.dropna(axis = 'columns') # Without the 'axis' argument, rows will be dropped by default as you did in the previous code."
   ]
  },
  {
   "cell_type": "markdown",
   "metadata": {
    "id": "uUx-BpKRKv3t"
   },
   "source": [
    "##### Handling missing data by replacing values\n",
    "\n",
    "* Not every time we should delete the missing values, especially when the dataset is smaller or when missing values are very significant. In such as case, additional data-preparation is performed.\n",
    "\n",
    "* Depending on the dataset, it's structure and the research questions, we should decide which data preparation technique should be applied on what column or missing values."
   ]
  },
  {
   "cell_type": "code",
   "execution_count": null,
   "metadata": {
    "colab": {
     "base_uri": "https://localhost:8080/"
    },
    "executionInfo": {
     "elapsed": 93,
     "status": "ok",
     "timestamp": 1629121145880,
     "user": {
      "displayName": "Manjiri Sawant",
      "photoUrl": "https://lh3.googleusercontent.com/a-/AOh14Gg_gCWtWflMGGrHQCn9QlMZSxNVG4ndynt6ZMiyFA=s64",
      "userId": "18419725263817022624"
     },
     "user_tz": -330
    },
    "id": "saEFHfo0LDjD",
    "outputId": "588f6a17-8668-4c67-fa25-eebc28664252"
   },
   "outputs": [],
   "source": [
    "temps['temperature_f'].cumsum()   # Returns the commulative sum. \n",
    "\n",
    "# It will skip null values. skipna = TRUE by default\n",
    "\n",
    "# array containing numbers whose commulative sum is desired"
   ]
  },
  {
   "cell_type": "code",
   "execution_count": null,
   "metadata": {
    "colab": {
     "base_uri": "https://localhost:8080/"
    },
    "executionInfo": {
     "elapsed": 86,
     "status": "ok",
     "timestamp": 1629121145881,
     "user": {
      "displayName": "Manjiri Sawant",
      "photoUrl": "https://lh3.googleusercontent.com/a-/AOh14Gg_gCWtWflMGGrHQCn9QlMZSxNVG4ndynt6ZMiyFA=s64",
      "userId": "18419725263817022624"
     },
     "user_tz": -330
    },
    "id": "Zw7G14EELOPb",
    "outputId": "e470280d-7a3b-4a95-cc4b-23f0746f3d2a"
   },
   "outputs": [],
   "source": [
    "temps['temperature_f'].cumsum(skipna=False)  "
   ]
  },
  {
   "cell_type": "code",
   "execution_count": null,
   "metadata": {
    "colab": {
     "base_uri": "https://localhost:8080/",
     "height": 206
    },
    "executionInfo": {
     "elapsed": 84,
     "status": "ok",
     "timestamp": 1629121145883,
     "user": {
      "displayName": "Manjiri Sawant",
      "photoUrl": "https://lh3.googleusercontent.com/a-/AOh14Gg_gCWtWflMGGrHQCn9QlMZSxNVG4ndynt6ZMiyFA=s64",
      "userId": "18419725263817022624"
     },
     "user_tz": -330
    },
    "id": "TwboRVWaLmXW",
    "outputId": "9fc6fa57-4041-4ee2-81ee-e3b7b1e2296c"
   },
   "outputs": [],
   "source": [
    "# fill missing value with zero\n",
    "temps.fillna(value=0, inplace = True)  "
   ]
  },
  {
   "cell_type": "code",
   "execution_count": null,
   "metadata": {
    "colab": {
     "base_uri": "https://localhost:8080/",
     "height": 206
    },
    "executionInfo": {
     "elapsed": 83,
     "status": "ok",
     "timestamp": 1629121145883,
     "user": {
      "displayName": "Manjiri Sawant",
      "photoUrl": "https://lh3.googleusercontent.com/a-/AOh14Gg_gCWtWflMGGrHQCn9QlMZSxNVG4ndynt6ZMiyFA=s64",
      "userId": "18419725263817022624"
     },
     "user_tz": -330
    },
    "id": "jIaa-IyZOdIr",
    "outputId": "187e3b0c-d605-4971-c416-f66d3dad385b"
   },
   "outputs": [],
   "source": [
    "# Print the dataframe\n",
    "\n",
    "temps"
   ]
  },
  {
   "cell_type": "markdown",
   "metadata": {},
   "source": [
    "#####  Why 0 in last column is 0.00 while only 0 in measurement_type?\n",
    "\n",
    " **Ans.** Because last column data type is float so 0 represents as 0.00 and 2nd column data type is integer."
   ]
  },
  {
   "cell_type": "code",
   "execution_count": null,
   "metadata": {
    "colab": {
     "base_uri": "https://localhost:8080/",
     "height": 206
    },
    "executionInfo": {
     "elapsed": 82,
     "status": "ok",
     "timestamp": 1629121145883,
     "user": {
      "displayName": "Manjiri Sawant",
      "photoUrl": "https://lh3.googleusercontent.com/a-/AOh14Gg_gCWtWflMGGrHQCn9QlMZSxNVG4ndynt6ZMiyFA=s64",
      "userId": "18419725263817022624"
     },
     "user_tz": -330
    },
    "id": "p3S2t9zRSOch",
    "outputId": "16cced4e-69da-40cc-a6e6-62fcadcb80a1"
   },
   "outputs": [],
   "source": [
    "# fill missing value with previous value\n",
    "temps = pd.DataFrame({\"sequence\":[1,2,3,4,5],\n",
    "          \"measurement_type\":['actual','actual','actual',None,'estimated'],\n",
    "          \"temperature_f\":[67.24,84.56,91.61,None,49.64]\n",
    "         })\n",
    "temps.fillna(method='pad' , inplace=True)  # 'pad' means padding. Take value from previous row\n",
    "temps"
   ]
  },
  {
   "cell_type": "code",
   "execution_count": null,
   "metadata": {
    "colab": {
     "base_uri": "https://localhost:8080/",
     "height": 206
    },
    "executionInfo": {
     "elapsed": 83,
     "status": "ok",
     "timestamp": 1629121145884,
     "user": {
      "displayName": "Manjiri Sawant",
      "photoUrl": "https://lh3.googleusercontent.com/a-/AOh14Gg_gCWtWflMGGrHQCn9QlMZSxNVG4ndynt6ZMiyFA=s64",
      "userId": "18419725263817022624"
     },
     "user_tz": -330
    },
    "id": "LoyHXjvsSbzm",
    "outputId": "b6362d91-9476-4746-e934-183cca9f9ece"
   },
   "outputs": [],
   "source": [
    "# fill missing value with next value\n",
    "temps1 = pd.DataFrame({\"sequence\":[1,2,3,4,5],\n",
    "          \"measurement_type\":['actual','actual','actual',None,'estimated'],\n",
    "          \"temperature_f\":[67.24,84.56,91.61,None,49.64]\n",
    "         })\n",
    "temps1.fillna(method='bfill' , inplace=True)  # bfill takes next value to replace\n",
    "temps1"
   ]
  },
  {
   "cell_type": "code",
   "execution_count": null,
   "metadata": {
    "colab": {
     "base_uri": "https://localhost:8080/",
     "height": 206
    },
    "executionInfo": {
     "elapsed": 82,
     "status": "ok",
     "timestamp": 1629121145884,
     "user": {
      "displayName": "Manjiri Sawant",
      "photoUrl": "https://lh3.googleusercontent.com/a-/AOh14Gg_gCWtWflMGGrHQCn9QlMZSxNVG4ndynt6ZMiyFA=s64",
      "userId": "18419725263817022624"
     },
     "user_tz": -330
    },
    "id": "SykNFp0hSlmv",
    "outputId": "c5e34420-df3d-4d63-c96b-e39d39b17a5e"
   },
   "outputs": [],
   "source": [
    "# fill missing value with mean\n",
    "temps = pd.DataFrame({\"sequence\":[1,2,3,4,5],\n",
    "          \"measurement_type\":['actual','actual','actual',None,'estimated'],\n",
    "          \"temperature_f\":[67.24,84.56,91.61,None,49.64]\n",
    "         })\n",
    "temps['temperature_f'].fillna(temps['temperature_f'].mean(), inplace=True)  # Mean will not work on strings\n",
    "temps"
   ]
  },
  {
   "cell_type": "markdown",
   "metadata": {
    "id": "LVZ3qFKxTLUD"
   },
   "source": [
    "## Lambda Function"
   ]
  },
  {
   "cell_type": "markdown",
   "metadata": {},
   "source": [
    "* lambda is used to define a temporary expression without any return statement. It always contains an expression.\n",
    "* that is returned. There is no need to assign a variable with lambda."
   ]
  },
  {
   "cell_type": "code",
   "execution_count": null,
   "metadata": {
    "colab": {
     "base_uri": "https://localhost:8080/"
    },
    "executionInfo": {
     "elapsed": 81,
     "status": "ok",
     "timestamp": 1629121145884,
     "user": {
      "displayName": "Manjiri Sawant",
      "photoUrl": "https://lh3.googleusercontent.com/a-/AOh14Gg_gCWtWflMGGrHQCn9QlMZSxNVG4ndynt6ZMiyFA=s64",
      "userId": "18419725263817022624"
     },
     "user_tz": -330
    },
    "id": "1r_AKmcTTQd0",
    "outputId": "6a7af155-4a80-44e3-dacc-97311e754c11"
   },
   "outputs": [],
   "source": [
    "def cube(y):\n",
    "    return y*y*y  # return is a keyword. Python stops when the code reaches to return statement. Print is a function.\n",
    "    \n",
    "\n",
    "# using the normally defined function\n",
    "    print(cube(5))\n",
    "\n",
    "# Using the lambda function\n",
    "lambda_cube = lambda y: y*y*y\n",
    "print(lambda_cube(5))"
   ]
  },
  {
   "cell_type": "markdown",
   "metadata": {},
   "source": [
    "### Creating new dataframe to explore the use of Lambda and changing indices."
   ]
  },
  {
   "cell_type": "code",
   "execution_count": null,
   "metadata": {
    "colab": {
     "base_uri": "https://localhost:8080/",
     "height": 175
    },
    "executionInfo": {
     "elapsed": 73,
     "status": "ok",
     "timestamp": 1629121145885,
     "user": {
      "displayName": "Manjiri Sawant",
      "photoUrl": "https://lh3.googleusercontent.com/a-/AOh14Gg_gCWtWflMGGrHQCn9QlMZSxNVG4ndynt6ZMiyFA=s64",
      "userId": "18419725263817022624"
     },
     "user_tz": -330
    },
    "id": "A6CDJOepT_iG",
    "outputId": "6c492bb7-25dc-41d6-f7e2-741759fb4d3f"
   },
   "outputs": [],
   "source": [
    "teams = pd.DataFrame({\"Region\":['North','West','East','South'],\n",
    "          \"Team\":['One','Two','One','Two'],\n",
    "          \"Squad\":['A','B','C','D'],\n",
    "          \"Revenue\":[7500,5500,2750,6400],\n",
    "            \"Cost\":[5200,5100,4400,5300]})\n",
    "\n",
    "display (teams)"
   ]
  },
  {
   "cell_type": "code",
   "execution_count": null,
   "metadata": {
    "colab": {
     "base_uri": "https://localhost:8080/",
     "height": 175
    },
    "executionInfo": {
     "elapsed": 72,
     "status": "ok",
     "timestamp": 1629121145885,
     "user": {
      "displayName": "Manjiri Sawant",
      "photoUrl": "https://lh3.googleusercontent.com/a-/AOh14Gg_gCWtWflMGGrHQCn9QlMZSxNVG4ndynt6ZMiyFA=s64",
      "userId": "18419725263817022624"
     },
     "user_tz": -330
    },
    "id": "X5qY-K_UUQW9",
    "outputId": "002d6a0e-00c1-4778-f6bd-0bdc8c37a28f"
   },
   "outputs": [],
   "source": [
    "# apply() to alter values along an axis in dataframe or in a series/column \n",
    "\n",
    "# Categorise based on the revenue and cost\n",
    "teams['Profit'] = teams.apply(lambda x: 'Profit' if x['Revenue']>x['Cost'] else 'Loss',axis=1)\n",
    "teams\n"
   ]
  },
  {
   "cell_type": "code",
   "execution_count": null,
   "metadata": {
    "colab": {
     "base_uri": "https://localhost:8080/",
     "height": 175
    },
    "executionInfo": {
     "elapsed": 72,
     "status": "ok",
     "timestamp": 1629121145885,
     "user": {
      "displayName": "Manjiri Sawant",
      "photoUrl": "https://lh3.googleusercontent.com/a-/AOh14Gg_gCWtWflMGGrHQCn9QlMZSxNVG4ndynt6ZMiyFA=s64",
      "userId": "18419725263817022624"
     },
     "user_tz": -330
    },
    "id": "JZOM03MwUUmh",
    "outputId": "93144bcd-eeb1-499d-cb99-281774b76b72"
   },
   "outputs": [],
   "source": [
    "# Use map() to substitute each value in a series\n",
    "\n",
    "team_map = {\"One\":\"Red\",\"Two\":\"Blue\"}      # new variable - dictionary (key-value pair)\n",
    "teams['Team Color'] = teams['Team'].map(team_map) # A new column with mapped values\n",
    "teams"
   ]
  },
  {
   "cell_type": "code",
   "execution_count": null,
   "metadata": {
    "colab": {
     "base_uri": "https://localhost:8080/",
     "height": 175
    },
    "executionInfo": {
     "elapsed": 71,
     "status": "ok",
     "timestamp": 1629121145885,
     "user": {
      "displayName": "Manjiri Sawant",
      "photoUrl": "https://lh3.googleusercontent.com/a-/AOh14Gg_gCWtWflMGGrHQCn9QlMZSxNVG4ndynt6ZMiyFA=s64",
      "userId": "18419725263817022624"
     },
     "user_tz": -330
    },
    "id": "fm2F_8QxUZZx",
    "outputId": "0de269e0-20ef-4a98-bb2b-734406987d72"
   },
   "outputs": [],
   "source": [
    "# applymap() method do elementwise operation on the entire dataframe.\n",
    "# This method applies a function that accepts and returns a scalar to every element of a DataFrame.\n",
    "\n",
    "teams.applymap(lambda x: len(str(x)))  # int(x) won't work because data has strings which can not be convereted to int."
   ]
  },
  {
   "cell_type": "code",
   "execution_count": null,
   "metadata": {
    "colab": {
     "base_uri": "https://localhost:8080/",
     "height": 143
    },
    "executionInfo": {
     "elapsed": 72,
     "status": "ok",
     "timestamp": 1629121145886,
     "user": {
      "displayName": "Manjiri Sawant",
      "photoUrl": "https://lh3.googleusercontent.com/a-/AOh14Gg_gCWtWflMGGrHQCn9QlMZSxNVG4ndynt6ZMiyFA=s64",
      "userId": "18419725263817022624"
     },
     "user_tz": -330
    },
    "id": "WHrIrf39Ue6Z",
    "outputId": "a2a2a659-92f6-46ea-c525-d01299d3aeb1"
   },
   "outputs": [],
   "source": [
    "# Grouping on different region. \n",
    "teams.groupby(['Profit','Region']).max()"
   ]
  },
  {
   "cell_type": "markdown",
   "metadata": {},
   "source": [
    "##### Group the records on Cost with minimum values."
   ]
  },
  {
   "cell_type": "code",
   "execution_count": null,
   "metadata": {
    "colab": {
     "base_uri": "https://localhost:8080/",
     "height": 206
    },
    "executionInfo": {
     "elapsed": 71,
     "status": "ok",
     "timestamp": 1629121145886,
     "user": {
      "displayName": "Manjiri Sawant",
      "photoUrl": "https://lh3.googleusercontent.com/a-/AOh14Gg_gCWtWflMGGrHQCn9QlMZSxNVG4ndynt6ZMiyFA=s64",
      "userId": "18419725263817022624"
     },
     "user_tz": -330
    },
    "id": "-SlEdwT_UhKQ",
    "outputId": "be4b2d88-4fa8-4435-cee4-ab157eae405a"
   },
   "outputs": [],
   "source": [
    " teams.groupby(['Cost']).min()"
   ]
  },
  {
   "cell_type": "markdown",
   "metadata": {},
   "source": [
    "##### Group the records on Revenue column with mean values."
   ]
  },
  {
   "cell_type": "code",
   "execution_count": null,
   "metadata": {
    "colab": {
     "base_uri": "https://localhost:8080/",
     "height": 206
    },
    "executionInfo": {
     "elapsed": 71,
     "status": "ok",
     "timestamp": 1629121145886,
     "user": {
      "displayName": "Manjiri Sawant",
      "photoUrl": "https://lh3.googleusercontent.com/a-/AOh14Gg_gCWtWflMGGrHQCn9QlMZSxNVG4ndynt6ZMiyFA=s64",
      "userId": "18419725263817022624"
     },
     "user_tz": -330
    },
    "id": "-U5oFqBeVF37",
    "outputId": "21ee6696-7f61-4259-dd6c-022a80a408d2"
   },
   "outputs": [],
   "source": [
    "teams.groupby(['Revenue']).mean()"
   ]
  },
  {
   "cell_type": "markdown",
   "metadata": {},
   "source": [
    "##### Grouping on the basis of aggregates."
   ]
  },
  {
   "cell_type": "code",
   "execution_count": null,
   "metadata": {
    "colab": {
     "base_uri": "https://localhost:8080/",
     "height": 175
    },
    "executionInfo": {
     "elapsed": 70,
     "status": "ok",
     "timestamp": 1629121145886,
     "user": {
      "displayName": "Manjiri Sawant",
      "photoUrl": "https://lh3.googleusercontent.com/a-/AOh14Gg_gCWtWflMGGrHQCn9QlMZSxNVG4ndynt6ZMiyFA=s64",
      "userId": "18419725263817022624"
     },
     "user_tz": -330
    },
    "id": "qFVH1seKVTRN",
    "outputId": "e98c7013-cf80-40dd-ad22-77af0ba89de6"
   },
   "outputs": [],
   "source": [
    "teams.groupby(['Team']).agg({'Revenue':['mean','min','max']})"
   ]
  },
  {
   "cell_type": "markdown",
   "metadata": {
    "id": "smEeQ06lVrsj"
   },
   "source": [
    "Reset Index, Set Index and ReIndexing"
   ]
  },
  {
   "cell_type": "code",
   "execution_count": null,
   "metadata": {
    "colab": {
     "base_uri": "https://localhost:8080/",
     "height": 175
    },
    "executionInfo": {
     "elapsed": 70,
     "status": "ok",
     "timestamp": 1629121145887,
     "user": {
      "displayName": "Manjiri Sawant",
      "photoUrl": "https://lh3.googleusercontent.com/a-/AOh14Gg_gCWtWflMGGrHQCn9QlMZSxNVG4ndynt6ZMiyFA=s64",
      "userId": "18419725263817022624"
     },
     "user_tz": -330
    },
    "id": "AOq1jy4UVkpL",
    "outputId": "d64ae18e-43b9-4806-fe0a-74e861cb3a99"
   },
   "outputs": [],
   "source": [
    "# Redefining teams dataframe, and display it\n",
    "\n",
    "teams = pd.DataFrame({\"Region\":['North','West','East','South'],\n",
    "          \"Team\":['One','Two','One','Two'],\n",
    "          \"Squad\":['A','B','C','D'],\n",
    "          \"Revenue\":[7500,5500,2750,6400],\n",
    "            \"Cost\":[5200,5100,4400,5300]})\n",
    "\n",
    "display (teams)"
   ]
  },
  {
   "cell_type": "code",
   "execution_count": null,
   "metadata": {
    "colab": {
     "base_uri": "https://localhost:8080/",
     "height": 381
    },
    "executionInfo": {
     "elapsed": 69,
     "status": "ok",
     "timestamp": 1629121145887,
     "user": {
      "displayName": "Manjiri Sawant",
      "photoUrl": "https://lh3.googleusercontent.com/a-/AOh14Gg_gCWtWflMGGrHQCn9QlMZSxNVG4ndynt6ZMiyFA=s64",
      "userId": "18419725263817022624"
     },
     "user_tz": -330
    },
    "id": "A2Hrv2n5WA74",
    "outputId": "35a8d03d-3696-4505-9d7e-254d2378a46f"
   },
   "outputs": [],
   "source": [
    "# Setting two columns as index when a single column has not unique values.\n",
    "\n",
    "teams_reindex = teams.set_index(['Region','Team'])  # 2 indices. useful when values are not unique\n",
    "display(teams)\n",
    "\n",
    "print()    # TO print blank/new line.\n",
    "\n",
    "\n",
    "display(teams_reindex)"
   ]
  },
  {
   "cell_type": "code",
   "execution_count": null,
   "metadata": {
    "colab": {
     "base_uri": "https://localhost:8080/",
     "height": 457
    },
    "executionInfo": {
     "elapsed": 70,
     "status": "ok",
     "timestamp": 1629121145888,
     "user": {
      "displayName": "Manjiri Sawant",
      "photoUrl": "https://lh3.googleusercontent.com/a-/AOh14Gg_gCWtWflMGGrHQCn9QlMZSxNVG4ndynt6ZMiyFA=s64",
      "userId": "18419725263817022624"
     },
     "user_tz": -330
    },
    "id": "KQCJTjmdWhtT",
    "outputId": "c2627176-7ea2-4d09-dbfe-85a4de514ea8"
   },
   "outputs": [],
   "source": [
    "# Restructuring the dataframe based the multiple indices.\n",
    "\n",
    "stacked = pd.DataFrame(teams_reindex.stack())\n",
    "stacked"
   ]
  },
  {
   "cell_type": "markdown",
   "metadata": {
    "id": "qo_QwY0pXEJQ"
   },
   "source": [
    "## Mergining dataframes\n",
    "\n",
    "* How to merge multiple dataframes based on left, right and inner join."
   ]
  },
  {
   "cell_type": "markdown",
   "metadata": {},
   "source": [
    "### Defining two new dataframes"
   ]
  },
  {
   "cell_type": "code",
   "execution_count": null,
   "metadata": {
    "executionInfo": {
     "elapsed": 70,
     "status": "ok",
     "timestamp": 1629121145889,
     "user": {
      "displayName": "Manjiri Sawant",
      "photoUrl": "https://lh3.googleusercontent.com/a-/AOh14Gg_gCWtWflMGGrHQCn9QlMZSxNVG4ndynt6ZMiyFA=s64",
      "userId": "18419725263817022624"
     },
     "user_tz": -330
    },
    "id": "Sov4gqryXcFv"
   },
   "outputs": [],
   "source": [
    "group1 = pd.DataFrame({'name': ['Alice', 'Bob', 'Charlie', 'David'],\n",
    "                    'number': [1, 2, 3, 4]})\n",
    "group2 = pd.DataFrame({'name': ['Charlie', 'David', 'Edward', 'Ford'],\n",
    "                    'number': [3, 4, 5, 6]})"
   ]
  },
  {
   "cell_type": "code",
   "execution_count": null,
   "metadata": {
    "colab": {
     "base_uri": "https://localhost:8080/",
     "height": 175
    },
    "executionInfo": {
     "elapsed": 70,
     "status": "ok",
     "timestamp": 1629121145889,
     "user": {
      "displayName": "Manjiri Sawant",
      "photoUrl": "https://lh3.googleusercontent.com/a-/AOh14Gg_gCWtWflMGGrHQCn9QlMZSxNVG4ndynt6ZMiyFA=s64",
      "userId": "18419725263817022624"
     },
     "user_tz": -330
    },
    "id": "KVeFfEWfXhZi",
    "outputId": "5e9ae99e-498d-4b4b-a032-35727ea98d5f"
   },
   "outputs": [],
   "source": [
    "group1.merge(group2,how='left', on='number')   # Left - all from 1st table and only common from 2nd table."
   ]
  },
  {
   "cell_type": "code",
   "execution_count": null,
   "metadata": {
    "colab": {
     "base_uri": "https://localhost:8080/",
     "height": 112
    },
    "executionInfo": {
     "elapsed": 70,
     "status": "ok",
     "timestamp": 1629121145890,
     "user": {
      "displayName": "Manjiri Sawant",
      "photoUrl": "https://lh3.googleusercontent.com/a-/AOh14Gg_gCWtWflMGGrHQCn9QlMZSxNVG4ndynt6ZMiyFA=s64",
      "userId": "18419725263817022624"
     },
     "user_tz": -330
    },
    "id": "VmtiSJ5xYxXs",
    "outputId": "b9c448e4-f3d0-4691-cdbf-8653d1b1ec62"
   },
   "outputs": [],
   "source": [
    "group1.merge(group2)   # Shows only the common records."
   ]
  },
  {
   "cell_type": "code",
   "execution_count": null,
   "metadata": {
    "colab": {
     "base_uri": "https://localhost:8080/",
     "height": 112
    },
    "executionInfo": {
     "elapsed": 71,
     "status": "ok",
     "timestamp": 1629121145892,
     "user": {
      "displayName": "Manjiri Sawant",
      "photoUrl": "https://lh3.googleusercontent.com/a-/AOh14Gg_gCWtWflMGGrHQCn9QlMZSxNVG4ndynt6ZMiyFA=s64",
      "userId": "18419725263817022624"
     },
     "user_tz": -330
    },
    "id": "eqQt-QliX7-d",
    "outputId": "4db7578f-e049-46d0-db41-0f12f04f0e43"
   },
   "outputs": [],
   "source": [
    "group1.merge(group2,how='inner',left_on='number',right_on='number')  # Inner - Shows only the common records"
   ]
  },
  {
   "cell_type": "markdown",
   "metadata": {},
   "source": [
    "#### Why there are no null values now in the output? "
   ]
  },
  {
   "cell_type": "markdown",
   "metadata": {},
   "source": [
    "**Ans** : Inner join is the most common type of join. It returns a dataframe with only those rows that have common characteristics.Thats's why there are no null values in the output."
   ]
  },
  {
   "cell_type": "code",
   "execution_count": null,
   "metadata": {
    "colab": {
     "base_uri": "https://localhost:8080/",
     "height": 175
    },
    "executionInfo": {
     "elapsed": 70,
     "status": "ok",
     "timestamp": 1629121145893,
     "user": {
      "displayName": "Manjiri Sawant",
      "photoUrl": "https://lh3.googleusercontent.com/a-/AOh14Gg_gCWtWflMGGrHQCn9QlMZSxNVG4ndynt6ZMiyFA=s64",
      "userId": "18419725263817022624"
     },
     "user_tz": -330
    },
    "id": "bktq1ZR-YGX4",
    "outputId": "85b48338-b438-450b-8e12-dd8dc3f2f2a9"
   },
   "outputs": [],
   "source": [
    "group1.merge(group2,how='right',left_on='number',right_on='number')  # Right - All from 2nd table, common from 1st table."
   ]
  },
  {
   "cell_type": "markdown",
   "metadata": {
    "id": "hLGaxWkcZLVt"
   },
   "source": [
    "# Matplotlib library in Python\n",
    "\n",
    "* Matplotlib is a plotting library for the Python programming language. Matplotlib in Python is used as it is a robust, free and easy library for data visualization.\n",
    "\n",
    "\n",
    "* Another important library - seaborn - is use for statistical data visualization.\n"
   ]
  },
  {
   "cell_type": "markdown",
   "metadata": {
    "id": "-Crk5U_dejxv"
   },
   "source": [
    "## 4. Dataset is Used: mtcars.csv"
   ]
  },
  {
   "cell_type": "code",
   "execution_count": null,
   "metadata": {
    "colab": {
     "base_uri": "https://localhost:8080/",
     "height": 1000
    },
    "executionInfo": {
     "elapsed": 48,
     "status": "ok",
     "timestamp": 1629121184232,
     "user": {
      "displayName": "Manjiri Sawant",
      "photoUrl": "https://lh3.googleusercontent.com/a-/AOh14Gg_gCWtWflMGGrHQCn9QlMZSxNVG4ndynt6ZMiyFA=s64",
      "userId": "18419725263817022624"
     },
     "user_tz": -330
    },
    "id": "GLoN7oxPaYN9",
    "outputId": "6d6d449e-c816-4fe7-dbc9-af421cf369b0"
   },
   "outputs": [],
   "source": [
    "cars = pd.read_csv('mtcars.csv', index_col= 'car_names') # index is set at col 'car_names'\n",
    "\n",
    "cars"
   ]
  },
  {
   "cell_type": "code",
   "execution_count": null,
   "metadata": {
    "executionInfo": {
     "elapsed": 45,
     "status": "ok",
     "timestamp": 1629121184234,
     "user": {
      "displayName": "Manjiri Sawant",
      "photoUrl": "https://lh3.googleusercontent.com/a-/AOh14Gg_gCWtWflMGGrHQCn9QlMZSxNVG4ndynt6ZMiyFA=s64",
      "userId": "18419725263817022624"
     },
     "user_tz": -330
    },
    "id": "Uen_QSb5f7WJ"
   },
   "outputs": [],
   "source": [
    "# Import the required package \n",
    "import matplotlib.pyplot as plt\n",
    "\n",
    "# This is a magic command for IPython that allows you to add plots to the browser interface.\n",
    "%matplotlib inline "
   ]
  },
  {
   "cell_type": "markdown",
   "metadata": {},
   "source": [
    "##### Create a scatter plot with mpg and hp by providing xlabel and ylabel"
   ]
  },
  {
   "cell_type": "markdown",
   "metadata": {},
   "source": [
    "* A **scatter plot** is a diagram where each value in the data set is represented by a dot.\n",
    "* The Matplotlib module has a method for drawing scatter plots, it needs two arrays of the same length, one for the values of the x-axis, and one for the values of the y-axis."
   ]
  },
  {
   "cell_type": "code",
   "execution_count": null,
   "metadata": {
    "colab": {
     "base_uri": "https://localhost:8080/",
     "height": 295
    },
    "executionInfo": {
     "elapsed": 46,
     "status": "ok",
     "timestamp": 1629121184236,
     "user": {
      "displayName": "Manjiri Sawant",
      "photoUrl": "https://lh3.googleusercontent.com/a-/AOh14Gg_gCWtWflMGGrHQCn9QlMZSxNVG4ndynt6ZMiyFA=s64",
      "userId": "18419725263817022624"
     },
     "user_tz": -330
    },
    "id": "LXZVzi8mf-O3",
    "outputId": "bc473917-9662-418a-d1c9-9f28ef2424b3"
   },
   "outputs": [],
   "source": [
    "cars.plot.scatter(x = \"mpg\", y = \"hp\",linewidths = 10,figsize = (10,7)) # x array represents 'mpg' of the car\n",
    "                                                                        # y represents 'hp' of the car                                                                       \n",
    "\n",
    "plt.xlabel('MPG', fontsize = 15) \n",
    "plt.ylabel('Hp', fontsize = 15)\n",
    "\n",
    "plt.title('MPG Vs Hp', fontsize = 25)\n",
    "plt.xticks(fontsize = 15)\n",
    "plt.yticks(fontsize = 15)\n",
    "\n",
    "plt.show()"
   ]
  },
  {
   "cell_type": "markdown",
   "metadata": {},
   "source": [
    "* We can see that the dots are concentrated around the value between 15 to 20 on the x-axis, and between 100 to 250 on the y-axis.\n",
    "\n",
    "* We can also see that the spread is wider."
   ]
  },
  {
   "cell_type": "code",
   "execution_count": null,
   "metadata": {
    "scrolled": false
   },
   "outputs": [],
   "source": [
    "cars.plot.scatter(x = \"mpg\", y = \"drat\",c = 'r', linewidths = 10,figsize = (10,7))\n",
    "\n",
    "plt.xlabel('MPG', fontsize = 15)\n",
    "plt.ylabel('Drat', fontsize = 15)\n",
    "\n",
    "plt.title('MPG Vs Drat', fontsize = 25)\n",
    "\n",
    "plt.xticks(fontsize = 15)\n",
    "plt.yticks(fontsize = 15)\n",
    "\n",
    "plt.grid(False)\n",
    "plt.show()"
   ]
  },
  {
   "cell_type": "markdown",
   "metadata": {},
   "source": [
    "* Matplotlib consists of several plots like line, bar, scatter, histogram etc. \n",
    "* Ticks are the values used to show specific points on the coordinate axis. It can be a number or a string. \n",
    "* Whenever we plot a graph, the axes adjust and take the default ticks."
   ]
  },
  {
   "cell_type": "markdown",
   "metadata": {},
   "source": [
    "##### Create crosstab for cyl(cylinder) and columns as count"
   ]
  },
  {
   "cell_type": "markdown",
   "metadata": {},
   "source": [
    "* A cross-tabulation (or crosstab) is a two- (or more) dimensional table that records the number (frequency) of respondents that have the specific characteristics described in the cells of the table."
   ]
  },
  {
   "cell_type": "code",
   "execution_count": null,
   "metadata": {
    "colab": {
     "base_uri": "https://localhost:8080/",
     "height": 175
    },
    "executionInfo": {
     "elapsed": 2324,
     "status": "ok",
     "timestamp": 1629121186517,
     "user": {
      "displayName": "Manjiri Sawant",
      "photoUrl": "https://lh3.googleusercontent.com/a-/AOh14Gg_gCWtWflMGGrHQCn9QlMZSxNVG4ndynt6ZMiyFA=s64",
      "userId": "18419725263817022624"
     },
     "user_tz": -330
    },
    "id": "CT_IoDIsgYBT",
    "outputId": "1b882ee3-f7b4-425f-8c13-b3c374b7f22c"
   },
   "outputs": [],
   "source": [
    "pd.crosstab(index = cars['cyl'], columns = 'cyl')"
   ]
  },
  {
   "cell_type": "code",
   "execution_count": null,
   "metadata": {
    "colab": {
     "base_uri": "https://localhost:8080/",
     "height": 276
    },
    "executionInfo": {
     "elapsed": 95,
     "status": "ok",
     "timestamp": 1629121186519,
     "user": {
      "displayName": "Manjiri Sawant",
      "photoUrl": "https://lh3.googleusercontent.com/a-/AOh14Gg_gCWtWflMGGrHQCn9QlMZSxNVG4ndynt6ZMiyFA=s64",
      "userId": "18419725263817022624"
     },
     "user_tz": -330
    },
    "id": "EKKzhNmZgibG",
    "outputId": "9f73f255-ee91-4ccf-f5fd-9e50596ee171"
   },
   "outputs": [],
   "source": [
    "# Other way to create the crosstab\n",
    "import numpy as np \n",
    "import pandas as pd\n",
    "import seaborn as sns\n",
    "import matplotlib.pyplot as plt\n",
    "\n",
    "\n",
    "ct = pd.crosstab(cars.cyl, cars.cyl)\n",
    "\n",
    "ct.plot.bar(stacked=True, figsize = (10,7))    # Try staked=False and then by removing stakced part\n",
    "plt.legend(title='mark', fontsize = 15)  \n",
    "\n",
    "plt.xlabel('cyl', fontsize = 15)\n",
    "plt.ylabel('cyl', fontsize = 15)\n",
    "\n",
    "plt.xticks(fontsize = 15)\n",
    "plt.yticks(fontsize = 15)\n",
    "\n",
    "plt.show()"
   ]
  },
  {
   "cell_type": "markdown",
   "metadata": {},
   "source": [
    "* Here, we can not see clearly the stacked bar plot because we have selected same columns."
   ]
  },
  {
   "cell_type": "code",
   "execution_count": null,
   "metadata": {
    "colab": {
     "base_uri": "https://localhost:8080/",
     "height": 276
    },
    "executionInfo": {
     "elapsed": 95,
     "status": "ok",
     "timestamp": 1629121186519,
     "user": {
      "displayName": "Manjiri Sawant",
      "photoUrl": "https://lh3.googleusercontent.com/a-/AOh14Gg_gCWtWflMGGrHQCn9QlMZSxNVG4ndynt6ZMiyFA=s64",
      "userId": "18419725263817022624"
     },
     "user_tz": -330
    },
    "id": "EKKzhNmZgibG",
    "outputId": "9f73f255-ee91-4ccf-f5fd-9e50596ee171"
   },
   "outputs": [],
   "source": [
    "# Other way to create the crosstab\n",
    "import numpy as np \n",
    "import pandas as pd\n",
    "import seaborn as sns\n",
    "import matplotlib.pyplot as plt\n",
    "import warnings\n",
    "\n",
    "\n",
    "ct_1 = pd.crosstab(cars.cyl, cars.gear)\n",
    "\n",
    "ct_1.plot.bar(stacked=True, figsize = (10,7))    # Try staked=False and then by removing stakced part\n",
    "plt.legend(title='mark', fontsize = 15)  \n",
    "\n",
    "plt.xlabel('cyl', fontsize = 15)\n",
    "plt.ylabel('gear', fontsize = 15)\n",
    "\n",
    "plt.xticks(fontsize = 15)\n",
    "plt.yticks(fontsize = 15)\n",
    "\n",
    "plt.show()"
   ]
  },
  {
   "cell_type": "markdown",
   "metadata": {},
   "source": [
    "* Stacked bars are a great alternative in those cases, allowing us to compare and analyze those groups' composition.\n",
    "* In a stacked barplot, subgroups are displayed on top of each other."
   ]
  },
  {
   "cell_type": "code",
   "execution_count": null,
   "metadata": {
    "colab": {
     "base_uri": "https://localhost:8080/",
     "height": 276
    },
    "executionInfo": {
     "elapsed": 93,
     "status": "ok",
     "timestamp": 1629121186520,
     "user": {
      "displayName": "Manjiri Sawant",
      "photoUrl": "https://lh3.googleusercontent.com/a-/AOh14Gg_gCWtWflMGGrHQCn9QlMZSxNVG4ndynt6ZMiyFA=s64",
      "userId": "18419725263817022624"
     },
     "user_tz": -330
    },
    "id": "PcAjSwSttSEn",
    "outputId": "3b1047c6-3ee9-414e-869f-83ca7c6c4c91"
   },
   "outputs": [],
   "source": [
    "# By trying stacked = False\n",
    "import numpy as np \n",
    "import pandas as pd\n",
    "import seaborn as sns\n",
    "import matplotlib.pyplot as plt\n",
    "\n",
    "ct_1 = pd.crosstab(cars.cyl, cars.gear)\n",
    "\n",
    "ct_1.plot.bar(stacked=False, figsize = (10,7))    # Try staked=False \n",
    "plt.legend(title='mark', fontsize = 15)  \n",
    "\n",
    "plt.xlabel('cyl', fontsize = 15)\n",
    "plt.ylabel('gear', fontsize = 15)\n",
    "\n",
    "plt.xticks(fontsize = 15)\n",
    "plt.yticks(fontsize = 15)\n",
    "\n",
    "plt.show()"
   ]
  },
  {
   "cell_type": "markdown",
   "metadata": {},
   "source": [
    "* stacked = False will unstack the bar"
   ]
  },
  {
   "cell_type": "code",
   "execution_count": null,
   "metadata": {
    "colab": {
     "base_uri": "https://localhost:8080/",
     "height": 276
    },
    "executionInfo": {
     "elapsed": 92,
     "status": "ok",
     "timestamp": 1629121186521,
     "user": {
      "displayName": "Manjiri Sawant",
      "photoUrl": "https://lh3.googleusercontent.com/a-/AOh14Gg_gCWtWflMGGrHQCn9QlMZSxNVG4ndynt6ZMiyFA=s64",
      "userId": "18419725263817022624"
     },
     "user_tz": -330
    },
    "id": "nlPZ8NUVtj5k",
    "outputId": "212d143c-d0d9-42af-cd8f-1b42a4d1d481",
    "scrolled": true
   },
   "outputs": [],
   "source": [
    "# By removing stacked part\n",
    "import numpy as np \n",
    "import pandas as pd\n",
    "import seaborn as sns\n",
    "import matplotlib.pyplot as plt\n",
    "import warnings\n",
    "\n",
    "ct_2 = pd.crosstab(cars.cyl, cars.carb)\n",
    "\n",
    "ct_2.plot.bar(figsize = (10,7))    # By removing stacked part\n",
    "plt.legend(title='mark', fontsize = 15)  \n",
    "\n",
    "plt.xlabel('cyl', fontsize = 15)\n",
    "plt.ylabel('carb', fontsize = 15)\n",
    "\n",
    "plt.xticks(fontsize = 15)\n",
    "plt.yticks(fontsize = 15)\n",
    "\n",
    "plt.show()"
   ]
  },
  {
   "cell_type": "markdown",
   "metadata": {},
   "source": [
    "* If we select more than one column, Pandas creates, by default, an unstacked bar chart with each column forming one set of columns, and the DataFrame index as the x-axis."
   ]
  },
  {
   "cell_type": "markdown",
   "metadata": {},
   "source": [
    "##### Create crosstab for cyl(cylinder) and am as 'ct2' and create a bar plot."
   ]
  },
  {
   "cell_type": "code",
   "execution_count": null,
   "metadata": {
    "colab": {
     "base_uri": "https://localhost:8080/",
     "height": 276
    },
    "executionInfo": {
     "elapsed": 92,
     "status": "ok",
     "timestamp": 1629121186523,
     "user": {
      "displayName": "Manjiri Sawant",
      "photoUrl": "https://lh3.googleusercontent.com/a-/AOh14Gg_gCWtWflMGGrHQCn9QlMZSxNVG4ndynt6ZMiyFA=s64",
      "userId": "18419725263817022624"
     },
     "user_tz": -330
    },
    "id": "jP520D1qgshX",
    "outputId": "694da6a4-e4cb-4561-e71d-a730fe57d391"
   },
   "outputs": [],
   "source": [
    "ct2 = pd.crosstab(cars.cyl, cars.am)\n",
    "\n",
    "ct2 = pd.crosstab(cars.cyl, cars.am)\n",
    "\n",
    "ct2.plot.bar(figsize = (10,7))\n",
    "\n",
    "plt.xlabel('cyl', fontsize = 15)\n",
    "plt.xticks(fontsize = 15)\n",
    "plt.yticks(fontsize = 15)\n",
    "plt.legend(title='am', fontsize = 15)\n",
    "plt.title('cyl vs am', fontsize = 25)\n",
    "\n",
    "plt.show()"
   ]
  },
  {
   "cell_type": "markdown",
   "metadata": {},
   "source": [
    "##### Create groupby (cyl) to visualize mpg and hp in a bar chart."
   ]
  },
  {
   "cell_type": "code",
   "execution_count": null,
   "metadata": {
    "colab": {
     "base_uri": "https://localhost:8080/",
     "height": 347
    },
    "executionInfo": {
     "elapsed": 92,
     "status": "ok",
     "timestamp": 1629121186524,
     "user": {
      "displayName": "Manjiri Sawant",
      "photoUrl": "https://lh3.googleusercontent.com/a-/AOh14Gg_gCWtWflMGGrHQCn9QlMZSxNVG4ndynt6ZMiyFA=s64",
      "userId": "18419725263817022624"
     },
     "user_tz": -330
    },
    "id": "pmcbk5KDg18x",
    "outputId": "6da64716-4647-4d53-cf27-3f8f55d66a29"
   },
   "outputs": [],
   "source": [
    "group = cars.groupby(by = 'cyl')[['mpg','hp']].nunique()\n",
    "\n",
    "group.plot.bar(figsize = (10,7))\n",
    "plt.title('visualize mpg and hp by cyl', fontsize = 25)\n",
    "\n",
    "plt.xticks(fontsize = 15)\n",
    "plt.yticks(fontsize = 15)\n",
    "plt.legend(fontsize = 15)\n",
    "plt.xlabel('cyl', fontsize = 15)\n",
    "\n",
    "plt.show()"
   ]
  },
  {
   "cell_type": "markdown",
   "metadata": {},
   "source": [
    "##### Create a pie chart for cyl count."
   ]
  },
  {
   "cell_type": "code",
   "execution_count": null,
   "metadata": {
    "colab": {
     "base_uri": "https://localhost:8080/",
     "height": 303
    },
    "executionInfo": {
     "elapsed": 77,
     "status": "ok",
     "timestamp": 1629121186525,
     "user": {
      "displayName": "Manjiri Sawant",
      "photoUrl": "https://lh3.googleusercontent.com/a-/AOh14Gg_gCWtWflMGGrHQCn9QlMZSxNVG4ndynt6ZMiyFA=s64",
      "userId": "18419725263817022624"
     },
     "user_tz": -330
    },
    "id": "QN7JkEalhHYu",
    "outputId": "5cca72aa-652a-4b6d-f8ea-767e8302c772",
    "scrolled": true
   },
   "outputs": [],
   "source": [
    "cyl_count = cars.cyl.value_counts()\n",
    "\n",
    "cyl_count.plot(kind = 'pie', autopct='%1.1f%%',figsize = (10,7),startangle = 180)\n",
    "\n",
    "\n",
    "plt.legend(title = 'cyl',fontsize = 15)\n",
    "plt.title('Distribution of Car cyl', fontsize =25)\n",
    "\n",
    "plt.show()"
   ]
  },
  {
   "cell_type": "markdown",
   "metadata": {},
   "source": [
    "* Pie charts are great for visualizing the distribution of counts among different values of a categorical field.\n",
    "* autopct parameter shows the percentage distribution of each portion."
   ]
  },
  {
   "cell_type": "markdown",
   "metadata": {},
   "source": [
    "#####  Create a Histogram for MPG column."
   ]
  },
  {
   "cell_type": "markdown",
   "metadata": {},
   "source": [
    "* A **histogram** is an accurate representation of the distribution of numerical data. It is an estimate of the probability distribution of a continuous variable. It is a kind of bar graph.\n",
    "\n",
    "* To construct a histogram, we have to follow these steps −\n",
    "\n",
    " 1. Bin the range of values.\n",
    " 2. Divide the entire range of values into a series of intervals.\n",
    " 3. Count how many values fall into each interval.\n",
    "\n",
    "* The bins are usually specified as consecutive, non-overlapping intervals of a variable.\n",
    "\n",
    "* The matplotlib.pyplot.hist() function plots a histogram. It computes and draws the histogram of x."
   ]
  },
  {
   "cell_type": "code",
   "execution_count": null,
   "metadata": {
    "colab": {
     "base_uri": "https://localhost:8080/",
     "height": 297
    },
    "executionInfo": {
     "elapsed": 72,
     "status": "ok",
     "timestamp": 1629121186525,
     "user": {
      "displayName": "Manjiri Sawant",
      "photoUrl": "https://lh3.googleusercontent.com/a-/AOh14Gg_gCWtWflMGGrHQCn9QlMZSxNVG4ndynt6ZMiyFA=s64",
      "userId": "18419725263817022624"
     },
     "user_tz": -330
    },
    "id": "8BqEKvMJhZR3",
    "outputId": "0dba9047-1e45-48a4-916a-6cec774e7e19"
   },
   "outputs": [],
   "source": [
    "cars['mpg'].plot.hist(bins = 8, figsize = (10,7))\n",
    "\n",
    "plt.xlabel(\"Car's MPG\", fontsize = 15)\n",
    "plt.ylabel('frequency', fontsize = 15)\n",
    "plt.xticks(fontsize = 15)\n",
    "plt.yticks(fontsize = 15)\n",
    "\n",
    "plt.grid(False)\n",
    "\n",
    "plt.show()"
   ]
  },
  {
   "cell_type": "markdown",
   "metadata": {},
   "source": [
    "* **Seaborn** which is another extremely useful library for data visualization in Python. \n",
    "* The Seaborn library is built on top of Matplotlib and offers many advanced data visualization capabilities."
   ]
  },
  {
   "cell_type": "code",
   "execution_count": null,
   "metadata": {},
   "outputs": [],
   "source": [
    "# setting the dimensions of the plot\n",
    "fig, ax = plt.subplots(figsize=(10, 7))\n",
    "\n",
    "sns.histplot(cars['mpg'], bins = 8, kde = True) \n",
    "plt.xlabel(\"Car's MPG\", fontsize = 15)\n",
    "plt.ylabel('frequency', fontsize = 15)\n",
    "plt.xticks(fontsize = 15)\n",
    "plt.yticks(fontsize = 15)\n",
    "\n",
    "plt.grid(False)"
   ]
  },
  {
   "cell_type": "markdown",
   "metadata": {},
   "source": [
    "* A histogram is **right skewed** if the peak of the histogram veers to the left. \n",
    "* With right-skewed distribution (also known as \"positively skewed\" distribution), most data falls to the right, or positive side, of the graph's peak. \n",
    "* kde represents the probability distribution of the data values as the area under the plotted curve."
   ]
  },
  {
   "cell_type": "markdown",
   "metadata": {},
   "source": [
    "**Key Features of Pandas**\n",
    "* Fast and efficient DataFrame object with default and customized indexing.\n",
    "* Tools for loading data into in-memory data objects from different file formats.\n",
    "* Data alignment and integrated handling of missing data.\n",
    "* Reshaping and pivoting of date sets.\n",
    "* Label-based slicing, indexing and subsetting of large data sets.\n",
    "* Columns from a data structure can be deleted or inserted.\n",
    "* Group by data for aggregation and transformations.\n",
    "* High performance merging and joining of data."
   ]
  },
  {
   "cell_type": "markdown",
   "metadata": {},
   "source": [
    "**There are lots of more essential and handy tools are available in pandas library that we still need to explore!**"
   ]
  }
 ],
 "metadata": {
  "colab": {
   "collapsed_sections": [],
   "name": "Data Manipulation and Visualization using Python.ipynb By Manjiri Sawant",
   "provenance": [
    {
     "file_id": "1B7303PgWbef5cdnlQM6fQU3zE5RaYWaZ",
     "timestamp": 1628772990015
    }
   ]
  },
  "kernelspec": {
   "display_name": "Python 3",
   "language": "python",
   "name": "python3"
  },
  "language_info": {
   "codemirror_mode": {
    "name": "ipython",
    "version": 3
   },
   "file_extension": ".py",
   "mimetype": "text/x-python",
   "name": "python",
   "nbconvert_exporter": "python",
   "pygments_lexer": "ipython3",
   "version": "3.8.8"
  }
 },
 "nbformat": 4,
 "nbformat_minor": 1
}
